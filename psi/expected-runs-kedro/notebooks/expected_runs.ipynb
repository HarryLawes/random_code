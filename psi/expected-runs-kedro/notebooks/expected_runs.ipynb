{
 "cells": [
  {
   "cell_type": "markdown",
   "id": "e9e9888d",
   "metadata": {},
   "source": [
    "# Setup"
   ]
  },
  {
   "cell_type": "code",
   "execution_count": 1,
   "id": "03ca6e4d",
   "metadata": {
    "ExecuteTime": {
     "end_time": "2022-08-11T09:29:20.495160Z",
     "start_time": "2022-08-11T09:29:19.273191Z"
    }
   },
   "outputs": [],
   "source": [
    "import pandas as pd\n",
    "import matplotlib.pyplot as plt\n",
    "import numpy as np\n",
    "import seaborn as sns\n",
    "import math\n",
    "pd.options.display.max_columns = 999\n",
    "pd.options.display.max_rows = 999\n",
    "\n",
    "plt.rcParams['font.serif'] = \"Georgia\"\n",
    "plt.rcParams['font.family'] = \"serif\""
   ]
  },
  {
   "cell_type": "code",
   "execution_count": 2,
   "id": "192ce735",
   "metadata": {
    "ExecuteTime": {
     "end_time": "2022-08-11T09:29:27.531525Z",
     "start_time": "2022-08-11T09:29:20.498746Z"
    }
   },
   "outputs": [],
   "source": [
    "balls = pd.read_csv(\"../data/01_raw/all_matches.csv\")"
   ]
  },
  {
   "cell_type": "markdown",
   "id": "16aa9b64",
   "metadata": {},
   "source": [
    "# Data Prep"
   ]
  },
  {
   "cell_type": "markdown",
   "id": "d733645d",
   "metadata": {},
   "source": [
    "## Filter non-T20s"
   ]
  },
  {
   "cell_type": "code",
   "execution_count": 3,
   "id": "7c1c2c70",
   "metadata": {
    "ExecuteTime": {
     "end_time": "2022-08-11T09:29:28.253177Z",
     "start_time": "2022-08-11T09:29:27.569203Z"
    }
   },
   "outputs": [],
   "source": [
    "# Excluding matches which we know are not T20s\n",
    "balls['t20'] = balls['over_limit'].apply(lambda x: True if x in [0, 20] else False)\n",
    "balls['date'] = pd.to_datetime(balls['date'], utc = True)\n",
    "\n",
    "t20_matches = balls.groupby('event_id', as_index=False)[['t20']].min()\n",
    "t20_matches = t20_matches[t20_matches['t20'] == True]\n",
    "\n",
    "t20_matches_list = list(t20_matches['event_id'])\n",
    "# This match was listed as 0 over limit but I happened to notice it was a 50 over game\n",
    "t20_matches_list.remove(1204677)\n",
    "t20_balls = balls[balls['event_id'].isin(t20_matches_list)]"
   ]
  },
  {
   "cell_type": "markdown",
   "id": "fa5f9c45",
   "metadata": {},
   "source": [
    "## Exclude Certain Matches"
   ]
  },
  {
   "cell_type": "code",
   "execution_count": 4,
   "id": "7d9ed5e0",
   "metadata": {
    "ExecuteTime": {
     "end_time": "2022-08-11T09:29:28.362386Z",
     "start_time": "2022-08-11T09:29:28.303165Z"
    }
   },
   "outputs": [],
   "source": [
    "matches = t20_balls.groupby(\n",
    "    'event_id'\n",
    ").head(1)[['event_id', 'date', 'batsman_striker_team_name', 'bowler_team_name']]"
   ]
  },
  {
   "cell_type": "code",
   "execution_count": 5,
   "id": "4a37b734",
   "metadata": {
    "ExecuteTime": {
     "end_time": "2022-08-11T09:29:28.419260Z",
     "start_time": "2022-08-11T09:29:28.408059Z"
    }
   },
   "outputs": [],
   "source": [
    "# Excluding matches with missing info\n",
    "matches = matches[matches['batsman_striker_team_name'].notnull()]\n",
    "# Excluding U19 matches - development formats not the most relevant\n",
    "matches = matches[~matches['batsman_striker_team_name'].str.contains('Under-19s')]\n",
    "\n",
    "# Excluding BBL matches with Power Surge + Bash Boost\n",
    "bbl_teams = ['Sydney Thunder', 'Sydney Sixers', 'Melbourne Renegades', 'Melbourne Stars',\n",
    "             'Hobart Hurricanes', 'Brisbane Heat', 'Perth Scorchers', 'Adelaide Strikers']\n",
    "\n",
    "matches = matches[~((matches['batsman_striker_team_name'].isin(bbl_teams)) &\n",
    "          (matches['date'] > pd.to_datetime('2020-6-01', utc=True)))]\n",
    "\n",
    "# Excluding matches before the start of the IPL when T20 cricket changed significantly\n",
    "matches = matches[matches['date'] >= pd.to_datetime('2008-4-18', utc=True)]\n",
    "\n",
    "match_id_list = list(matches['event_id'])"
   ]
  },
  {
   "cell_type": "code",
   "execution_count": 6,
   "id": "b6df435d",
   "metadata": {
    "ExecuteTime": {
     "end_time": "2022-08-11T09:29:28.853605Z",
     "start_time": "2022-08-11T09:29:28.466961Z"
    },
    "scrolled": true
   },
   "outputs": [],
   "source": [
    "t20_balls = t20_balls[t20_balls['event_id'].isin(match_id_list)]"
   ]
  },
  {
   "cell_type": "code",
   "execution_count": 7,
   "id": "f66fdd45",
   "metadata": {
    "ExecuteTime": {
     "end_time": "2022-08-11T09:29:32.937279Z",
     "start_time": "2022-08-11T09:29:28.901331Z"
    }
   },
   "outputs": [],
   "source": [
    "# Excluding matches which were messed up with multiple matches listed with the same event id\n",
    "t20_balls = t20_balls.merge(\n",
    "    t20_balls.groupby(\n",
    "        ['event_id', 'innings'], as_index = False\n",
    "    )[['batsman_striker_team_id']].nunique().sort_values(\n",
    "    'batsman_striker_team_id'\n",
    "    ).rename(\n",
    "        columns={'batsman_striker_team_id':'batting_teams'}\n",
    "    )\n",
    ")\n",
    "\n",
    "t20_balls = t20_balls[t20_balls['batting_teams'] == 1]"
   ]
  },
  {
   "cell_type": "code",
   "execution_count": 8,
   "id": "5b57d3ef",
   "metadata": {
    "ExecuteTime": {
     "end_time": "2022-08-11T09:29:34.299499Z",
     "start_time": "2022-08-11T09:29:33.014304Z"
    }
   },
   "outputs": [],
   "source": [
    "# Excluding balls with too many overs, wickets or runs, or missing 2nd inns targets \n",
    "t20_balls = t20_balls[t20_balls['overs'] <= 20]\n",
    "t20_balls = t20_balls[t20_balls['innings_wickets'] != 10]\n",
    "t20_balls = t20_balls[(t20_balls['innings_runs'] < t20_balls['innings_target']) | (t20_balls['innings'] == 1)]\n",
    "t20_balls = t20_balls[~((t20_balls['innings'] == 2) & (t20_balls['innings_target'] == 0))]"
   ]
  },
  {
   "cell_type": "code",
   "execution_count": 9,
   "id": "d002e869",
   "metadata": {
    "ExecuteTime": {
     "end_time": "2022-08-11T09:29:35.300202Z",
     "start_time": "2022-08-11T09:29:34.351987Z"
    },
    "scrolled": false
   },
   "outputs": [],
   "source": [
    "# Adding phases and over/wicket info\n",
    "t20_balls['powerplay'] = t20_balls['overs'].apply(lambda x: 1 if x < 6 else 0)\n",
    "t20_balls['middle'] = t20_balls['overs'].apply(lambda x: 1 if x >= 6 and x < 14 else 0)\n",
    "t20_balls['death'] = t20_balls['overs'].apply(lambda x: 1 if x >= 14 else 0)\n",
    "t20_balls['over_number'] = t20_balls['overs'].apply(lambda x: math.floor(x))\n",
    "t20_balls['wicket'] = t20_balls['outcome'].apply(lambda x: 1 if x == 'out' else 0)"
   ]
  },
  {
   "cell_type": "code",
   "execution_count": 10,
   "id": "f54fc7ca",
   "metadata": {
    "ExecuteTime": {
     "end_time": "2022-08-11T09:29:35.813073Z",
     "start_time": "2022-08-11T09:29:35.346814Z"
    },
    "scrolled": false
   },
   "outputs": [],
   "source": [
    "# Shifting to be # of wickets before the ball rather than after\n",
    "t20_balls['innings_wickets'] = t20_balls.sort_values(\n",
    "    ['event_id', 'innings', 'overs', 'ball_no']\n",
    ").groupby(['event_id', 'innings'])['innings_wickets'].shift(1).fillna(0)"
   ]
  },
  {
   "cell_type": "code",
   "execution_count": 11,
   "id": "078e77f1",
   "metadata": {
    "ExecuteTime": {
     "end_time": "2022-08-11T09:29:35.861358Z",
     "start_time": "2022-08-11T09:29:35.859714Z"
    },
    "code_folding": [],
    "scrolled": false
   },
   "outputs": [],
   "source": [
    "def add_extra_ball(df):\n",
    "    \n",
    "    if df['innings_remaining_balls'] == 0 and df['innings'] == 2:\n",
    "        df['innings_remaining_balls'] = 1\n",
    "        df['run_rate_required'] = df['innings_remaining_runs']\n",
    "\n",
    "    return df"
   ]
  },
  {
   "cell_type": "code",
   "execution_count": 12,
   "id": "1e3ee639",
   "metadata": {
    "ExecuteTime": {
     "end_time": "2022-08-11T09:30:17.160637Z",
     "start_time": "2022-08-11T09:29:35.906761Z"
    }
   },
   "outputs": [],
   "source": [
    "# Avoiding 0s or NAs in the run_rate_required column. Seems to go wrong where extra balls were mistakenly bowled\n",
    "t20_balls = t20_balls.apply(add_extra_ball, axis=1)"
   ]
  },
  {
   "cell_type": "code",
   "execution_count": 13,
   "id": "3788eb61",
   "metadata": {
    "ExecuteTime": {
     "end_time": "2022-08-11T09:30:17.241414Z",
     "start_time": "2022-08-11T09:30:17.221711Z"
    }
   },
   "outputs": [],
   "source": [
    "# Adding year columns\n",
    "t20_balls['year'] = pd.DatetimeIndex(t20_balls['date']).year"
   ]
  },
  {
   "cell_type": "markdown",
   "id": "387a4482",
   "metadata": {},
   "source": [
    "## Wides"
   ]
  },
  {
   "cell_type": "markdown",
   "id": "f386cada",
   "metadata": {},
   "source": [
    "I've decided to include extras as part of the batters' score - although there will obviously be occasions where batters deserve no credit for extras, there are lots of occasions where they do deserve credit, such as a quick single off a leg-bye. There are also batters who face significantly more wides than others - over a small sample this may be random variation, but taking a large sample (min. 5000 balls in our dataset), it is clear that for example Chris Gayle faces more wides than Rohit Sharma. This may be because Gayle is so deadly when anything is bowled in his arc that bowlers resort to trying to hide it from him, and as a result bowl more wides. For this reason, extras will be counted towards the batter in this rating system."
   ]
  },
  {
   "cell_type": "code",
   "execution_count": 14,
   "id": "447db1bb",
   "metadata": {
    "ExecuteTime": {
     "end_time": "2022-08-11T09:30:17.353433Z",
     "start_time": "2022-08-11T09:30:17.289459Z"
    }
   },
   "outputs": [],
   "source": [
    "# Calculate average # of wides per ball\n",
    "wides_faced = t20_balls.groupby(\n",
    "    'batsman_striker_name'\n",
    ").agg(\n",
    "    {'batter_balls_faced':'count', 'innings_wides':'mean'}\n",
    ")"
   ]
  },
  {
   "cell_type": "code",
   "execution_count": 15,
   "id": "c842d229",
   "metadata": {
    "ExecuteTime": {
     "end_time": "2022-08-11T09:30:17.411007Z",
     "start_time": "2022-08-11T09:30:17.402081Z"
    }
   },
   "outputs": [
    {
     "data": {
      "text/html": [
       "<div>\n",
       "<style scoped>\n",
       "    .dataframe tbody tr th:only-of-type {\n",
       "        vertical-align: middle;\n",
       "    }\n",
       "\n",
       "    .dataframe tbody tr th {\n",
       "        vertical-align: top;\n",
       "    }\n",
       "\n",
       "    .dataframe thead th {\n",
       "        text-align: right;\n",
       "    }\n",
       "</style>\n",
       "<table border=\"1\" class=\"dataframe\">\n",
       "  <thead>\n",
       "    <tr style=\"text-align: right;\">\n",
       "      <th></th>\n",
       "      <th>batter_balls_faced</th>\n",
       "      <th>innings_wides</th>\n",
       "    </tr>\n",
       "    <tr>\n",
       "      <th>batsman_striker_name</th>\n",
       "      <th></th>\n",
       "      <th></th>\n",
       "    </tr>\n",
       "  </thead>\n",
       "  <tbody>\n",
       "    <tr>\n",
       "      <th>Chris Gayle</th>\n",
       "      <td>8465</td>\n",
       "      <td>0.063910</td>\n",
       "    </tr>\n",
       "    <tr>\n",
       "      <th>Kieron Pollard</th>\n",
       "      <td>5867</td>\n",
       "      <td>0.057610</td>\n",
       "    </tr>\n",
       "    <tr>\n",
       "      <th>Brendon McCullum</th>\n",
       "      <td>5248</td>\n",
       "      <td>0.048780</td>\n",
       "    </tr>\n",
       "    <tr>\n",
       "      <th>Lendl Simmons</th>\n",
       "      <td>5487</td>\n",
       "      <td>0.044833</td>\n",
       "    </tr>\n",
       "    <tr>\n",
       "      <th>Suresh Raina</th>\n",
       "      <td>5449</td>\n",
       "      <td>0.043311</td>\n",
       "    </tr>\n",
       "    <tr>\n",
       "      <th>David Warner</th>\n",
       "      <td>6354</td>\n",
       "      <td>0.040762</td>\n",
       "    </tr>\n",
       "    <tr>\n",
       "      <th>Aaron Finch</th>\n",
       "      <td>6539</td>\n",
       "      <td>0.038844</td>\n",
       "    </tr>\n",
       "    <tr>\n",
       "      <th>Shikhar Dhawan</th>\n",
       "      <td>5965</td>\n",
       "      <td>0.035708</td>\n",
       "    </tr>\n",
       "    <tr>\n",
       "      <th>Virat Kohli</th>\n",
       "      <td>7008</td>\n",
       "      <td>0.032249</td>\n",
       "    </tr>\n",
       "    <tr>\n",
       "      <th>AB de Villiers</th>\n",
       "      <td>5444</td>\n",
       "      <td>0.027737</td>\n",
       "    </tr>\n",
       "    <tr>\n",
       "      <th>Rohit Sharma</th>\n",
       "      <td>6544</td>\n",
       "      <td>0.022922</td>\n",
       "    </tr>\n",
       "  </tbody>\n",
       "</table>\n",
       "</div>"
      ],
      "text/plain": [
       "                      batter_balls_faced  innings_wides\n",
       "batsman_striker_name                                   \n",
       "Chris Gayle                         8465       0.063910\n",
       "Kieron Pollard                      5867       0.057610\n",
       "Brendon McCullum                    5248       0.048780\n",
       "Lendl Simmons                       5487       0.044833\n",
       "Suresh Raina                        5449       0.043311\n",
       "David Warner                        6354       0.040762\n",
       "Aaron Finch                         6539       0.038844\n",
       "Shikhar Dhawan                      5965       0.035708\n",
       "Virat Kohli                         7008       0.032249\n",
       "AB de Villiers                      5444       0.027737\n",
       "Rohit Sharma                        6544       0.022922"
      ]
     },
     "execution_count": 15,
     "metadata": {},
     "output_type": "execute_result"
    }
   ],
   "source": [
    "wides_faced[wides_faced['batter_balls_faced'] >= 5000].sort_values('innings_wides', ascending=False)"
   ]
  },
  {
   "cell_type": "markdown",
   "id": "2810296f",
   "metadata": {},
   "source": [
    "# Model Training"
   ]
  },
  {
   "cell_type": "code",
   "execution_count": 16,
   "id": "8d28a224",
   "metadata": {
    "ExecuteTime": {
     "end_time": "2022-08-11T09:30:17.862975Z",
     "start_time": "2022-08-11T09:30:17.461108Z"
    }
   },
   "outputs": [],
   "source": [
    "from sklearn.linear_model import LinearRegression\n",
    "from sklearn.ensemble import RandomForestRegressor, AdaBoostRegressor, GradientBoostingRegressor\n",
    "from xgboost import XGBRegressor\n",
    "from sklearn.model_selection import cross_validate"
   ]
  },
  {
   "cell_type": "code",
   "execution_count": 17,
   "id": "06ad08b4",
   "metadata": {
    "ExecuteTime": {
     "end_time": "2022-08-11T09:30:19.436317Z",
     "start_time": "2022-08-11T09:30:17.918223Z"
    }
   },
   "outputs": [],
   "source": [
    "# Splitting data for model training + testing\n",
    "train_balls = t20_balls[t20_balls['year'] < 2020]\n",
    "test_balls = t20_balls[t20_balls['year'] >= 2020]"
   ]
  },
  {
   "cell_type": "code",
   "execution_count": 55,
   "id": "34e62358",
   "metadata": {
    "ExecuteTime": {
     "end_time": "2022-08-11T10:09:43.018028Z",
     "start_time": "2022-08-11T10:09:42.987953Z"
    }
   },
   "outputs": [
    {
     "data": {
      "text/plain": [
       "223276"
      ]
     },
     "execution_count": 55,
     "metadata": {},
     "output_type": "execute_result"
    }
   ],
   "source": [
    "len(test_balls)"
   ]
  },
  {
   "cell_type": "code",
   "execution_count": 18,
   "id": "a78ddc3f",
   "metadata": {
    "ExecuteTime": {
     "end_time": "2022-08-11T09:30:19.737496Z",
     "start_time": "2022-08-11T09:30:19.531483Z"
    }
   },
   "outputs": [],
   "source": [
    "first_inns = train_balls[train_balls['innings'] == 1]\n",
    "second_inns = train_balls[train_balls['innings'] == 2]"
   ]
  },
  {
   "cell_type": "markdown",
   "id": "77286094",
   "metadata": {},
   "source": [
    "## Expected Runs"
   ]
  },
  {
   "cell_type": "code",
   "execution_count": 19,
   "id": "1fb94703",
   "metadata": {
    "ExecuteTime": {
     "end_time": "2022-08-11T09:30:19.879301Z",
     "start_time": "2022-08-11T09:30:19.872520Z"
    }
   },
   "outputs": [],
   "source": [
    "# Splitting features + target\n",
    "X1 = first_inns[['innings_wickets', 'batter_balls_faced', 'powerplay', 'over_number']]\n",
    "y1 = first_inns['score_value']\n",
    "\n",
    "X2 = second_inns[['innings_wickets', 'batter_balls_faced', 'powerplay', 'over_number', 'run_rate_required']]\n",
    "y2 = second_inns['score_value']"
   ]
  },
  {
   "cell_type": "code",
   "execution_count": 20,
   "id": "50f212ed",
   "metadata": {
    "ExecuteTime": {
     "end_time": "2022-08-11T09:30:20.008882Z",
     "start_time": "2022-08-11T09:30:20.007176Z"
    }
   },
   "outputs": [],
   "source": [
    "lin_reg = LinearRegression()\n",
    "rf = RandomForestRegressor()\n",
    "ada = AdaBoostRegressor()\n",
    "grad = GradientBoostingRegressor()\n",
    "xg = XGBRegressor()"
   ]
  },
  {
   "cell_type": "code",
   "execution_count": 21,
   "id": "35123233",
   "metadata": {
    "ExecuteTime": {
     "end_time": "2022-08-07T22:16:14.691548Z",
     "start_time": "2022-08-07T22:11:03.068767Z"
    }
   },
   "outputs": [
    {
     "name": "stdout",
     "output_type": "stream",
     "text": [
      "LinearRegression(): -1.108 in 0.025\n",
      "RandomForestRegressor(): -1.118 in 13.959\n",
      "AdaBoostRegressor(): -1.591 in 3.997\n",
      "GradientBoostingRegressor(): -1.108 in 8.139\n",
      "XGBRegressor(base_score=None, booster=None, callbacks=None,\n",
      "             colsample_bylevel=None, colsample_bynode=None,\n",
      "             colsample_bytree=None, early_stopping_rounds=None,\n",
      "             enable_categorical=False, eval_metric=None, gamma=None,\n",
      "             gpu_id=None, grow_policy=None, importance_type=None,\n",
      "             interaction_constraints=None, learning_rate=None, max_bin=None,\n",
      "             max_cat_to_onehot=None, max_delta_step=None, max_depth=None,\n",
      "             max_leaves=None, min_child_weight=None, missing=nan,\n",
      "             monotone_constraints=None, n_estimators=100, n_jobs=None,\n",
      "             num_parallel_tree=None, predictor=None, random_state=None,\n",
      "             reg_alpha=None, reg_lambda=None, ...): -1.11 in 4.553\n"
     ]
    }
   ],
   "source": [
    "# Cross Validation\n",
    "models = [lin_reg, rf, ada, grad, xg]\n",
    "for model in models:\n",
    "    results = cross_validate(model, X1, y1, cv = 10, scoring='neg_mean_absolute_error')\n",
    "    score = round(results['test_score'].mean(), 3)\n",
    "    time = round(results['fit_time'].mean(), 3)\n",
    "    print(f\"{model}: {score} in {time}\")"
   ]
  },
  {
   "cell_type": "code",
   "execution_count": 22,
   "id": "eb4a6d42",
   "metadata": {
    "ExecuteTime": {
     "end_time": "2022-08-07T22:28:38.573853Z",
     "start_time": "2022-08-07T22:16:14.693058Z"
    }
   },
   "outputs": [
    {
     "name": "stdout",
     "output_type": "stream",
     "text": [
      "LinearRegression(): -1.1 in 0.03\n",
      "RandomForestRegressor(): -1.25 in 50.336\n",
      "AdaBoostRegressor(): -1.49 in 5.006\n",
      "GradientBoostingRegressor(): -1.103 in 12.859\n",
      "XGBRegressor(base_score=None, booster=None, callbacks=None,\n",
      "             colsample_bylevel=None, colsample_bynode=None,\n",
      "             colsample_bytree=None, early_stopping_rounds=None,\n",
      "             enable_categorical=False, eval_metric=None, gamma=None,\n",
      "             gpu_id=None, grow_policy=None, importance_type=None,\n",
      "             interaction_constraints=None, learning_rate=None, max_bin=None,\n",
      "             max_cat_to_onehot=None, max_delta_step=None, max_depth=None,\n",
      "             max_leaves=None, min_child_weight=None, missing=nan,\n",
      "             monotone_constraints=None, n_estimators=100, n_jobs=None,\n",
      "             num_parallel_tree=None, predictor=None, random_state=None,\n",
      "             reg_alpha=None, reg_lambda=None, ...): -1.106 in 4.594\n"
     ]
    }
   ],
   "source": [
    "models = [lin_reg, rf, ada, grad, xg]\n",
    "for model in models:\n",
    "    results = cross_validate(model, X2, y2, cv = 10, scoring='neg_mean_absolute_error')\n",
    "    score = round(results['test_score'].mean(), 3)\n",
    "    time = round(results['fit_time'].mean(), 3)\n",
    "    print(f\"{model}: {score} in {time}\")"
   ]
  },
  {
   "cell_type": "markdown",
   "id": "0b745bd5",
   "metadata": {},
   "source": [
    "The Linear Regression seems to be the best performing model in terms of mean absolute error, marginally better than the Gradient Boost and its training time is signifcantly quicker. If I had more time to work on this, optimising the hyper-parameters, particularly of the ensemble models, could be a good way to improve the performance of the model."
   ]
  },
  {
   "cell_type": "code",
   "execution_count": 21,
   "id": "db36551d",
   "metadata": {
    "ExecuteTime": {
     "end_time": "2022-08-11T09:30:20.137152Z",
     "start_time": "2022-08-11T09:30:20.135790Z"
    }
   },
   "outputs": [],
   "source": [
    "model1 = LinearRegression()\n",
    "model2 = LinearRegression()"
   ]
  },
  {
   "cell_type": "code",
   "execution_count": 22,
   "id": "a928b2ab",
   "metadata": {
    "ExecuteTime": {
     "end_time": "2022-08-11T09:30:20.307817Z",
     "start_time": "2022-08-11T09:30:20.264054Z"
    },
    "scrolled": true
   },
   "outputs": [
    {
     "data": {
      "text/plain": [
       "LinearRegression()"
      ]
     },
     "execution_count": 22,
     "metadata": {},
     "output_type": "execute_result"
    }
   ],
   "source": [
    "model1.fit(X1, y1)\n",
    "model2.fit(X2, y2)"
   ]
  },
  {
   "cell_type": "markdown",
   "id": "fcedb893",
   "metadata": {},
   "source": [
    "## Value of Wickets"
   ]
  },
  {
   "cell_type": "markdown",
   "id": "074d8180",
   "metadata": {},
   "source": [
    "While the expected runs model can show us how much players are scoring above/below an expected rate, it wouldn't account for the value of wickets. In order to include this in the player ratings, this wicket-value model can predict how many runs are expected in the remainder of the innings given # of wickets and balls remaining. From this we can see how many runs a wicket is worth at any point in the innings. Since the number of runs scored in the remainder of the innings would be affected by the target in a run chase, this model is trained on first innings only."
   ]
  },
  {
   "cell_type": "code",
   "execution_count": 23,
   "id": "dbcb94db",
   "metadata": {
    "ExecuteTime": {
     "end_time": "2022-08-11T09:30:20.450488Z",
     "start_time": "2022-08-11T09:30:20.448027Z"
    },
    "code_folding": []
   },
   "outputs": [],
   "source": [
    "def calculate_remaining_balls(df):\n",
    "    \n",
    "    if df['innings'] == 1:\n",
    "        if df['innings_remaining_balls'] == 0:\n",
    "            df['innings_remaining_balls'] = 121 - df['match_ball_no']\n",
    "            \n",
    "    return df"
   ]
  },
  {
   "cell_type": "code",
   "execution_count": 24,
   "id": "c04e814a",
   "metadata": {
    "ExecuteTime": {
     "end_time": "2022-08-11T09:30:37.630148Z",
     "start_time": "2022-08-11T09:30:20.592197Z"
    }
   },
   "outputs": [],
   "source": [
    "# Adding remaining balls for 1st innings, since it is mostly missing\n",
    "first_inns = first_inns.apply(calculate_remaining_balls, axis=1)"
   ]
  },
  {
   "cell_type": "code",
   "execution_count": 25,
   "id": "952eaba6",
   "metadata": {
    "ExecuteTime": {
     "end_time": "2022-08-11T09:30:39.348515Z",
     "start_time": "2022-08-11T09:30:37.769226Z"
    }
   },
   "outputs": [],
   "source": [
    "# Calculating runs scored in the remainder of an innings\n",
    "first_inns = first_inns.merge(\n",
    "    first_inns.groupby(\n",
    "        ['event_id', 'innings'], as_index = False\n",
    "    )['innings_runs'].max().rename(\n",
    "        columns={'innings_runs':'innings_total'}\n",
    "    ),\n",
    "    on=['event_id', 'innings'],\n",
    "    how='left'\n",
    ")\n",
    "\n",
    "first_inns['runs_after'] = first_inns['innings_total'] - first_inns['innings_runs'] + first_inns['score_value']"
   ]
  },
  {
   "cell_type": "code",
   "execution_count": 26,
   "id": "d3fdba6e",
   "metadata": {
    "ExecuteTime": {
     "end_time": "2022-08-11T09:30:39.843756Z",
     "start_time": "2022-08-11T09:30:39.478650Z"
    }
   },
   "outputs": [],
   "source": [
    "# Excluding innings that aren't complete in the data\n",
    "last_balls = first_inns.sort_values('match_ball_no').groupby(['event_id', 'innings']).tail(1)\n",
    "\n",
    "complete_innings = list(\n",
    "    last_balls[\n",
    "        (last_balls['innings_remaining_balls'] == 1) |\n",
    "        ((last_balls['innings_wickets'] == 9) & (last_balls['outcome'] == 'out'))\n",
    "    ]['event_id'])\n",
    "\n",
    "first_inns_train = first_inns[first_inns['event_id'].isin(complete_innings)]"
   ]
  },
  {
   "cell_type": "markdown",
   "id": "d2f41a3c",
   "metadata": {},
   "source": [
    "I've only included these 2 features currently, but with more time this could become more complex. For example, there may be certain situations (e.g. batting with a set batter vs with tailenders, high v low scoring matches) where wickets are valued more than others. There's a risk that this could bias the model against certain players (e.g. tailenders wickets count as more valuable because they tend to be batting with other tailenders), so I would need to investigate this to ensure it is fair.\n",
    "\n",
    "This relationship seems to be exponential, since wickets are exponentially more valuable at the start of the innings than at the end."
   ]
  },
  {
   "cell_type": "code",
   "execution_count": 27,
   "id": "d0744578",
   "metadata": {
    "ExecuteTime": {
     "end_time": "2022-08-11T09:30:40.018223Z",
     "start_time": "2022-08-11T09:30:40.010406Z"
    }
   },
   "outputs": [],
   "source": [
    "X1 = first_inns_train[['innings_wickets', 'innings_remaining_balls']]\n",
    "# Adding 1 to avoid np.log(0) == -Inf. \n",
    "y1 = np.log(first_inns_train['runs_after'] + 1)"
   ]
  },
  {
   "cell_type": "code",
   "execution_count": 28,
   "id": "f1448764",
   "metadata": {
    "ExecuteTime": {
     "end_time": "2022-08-11T09:30:40.195497Z",
     "start_time": "2022-08-11T09:30:40.183335Z"
    }
   },
   "outputs": [
    {
     "data": {
      "text/plain": [
       "LinearRegression()"
      ]
     },
     "execution_count": 28,
     "metadata": {},
     "output_type": "execute_result"
    }
   ],
   "source": [
    "wicket_model = LinearRegression()\n",
    "wicket_model.fit(X1, y1)"
   ]
  },
  {
   "cell_type": "code",
   "execution_count": 29,
   "id": "67d8e313",
   "metadata": {
    "ExecuteTime": {
     "end_time": "2022-08-11T09:30:40.366893Z",
     "start_time": "2022-08-11T09:30:40.361868Z"
    },
    "code_folding": []
   },
   "outputs": [],
   "source": [
    "# Creating a dataframe to predict for every ball/wicket combo\n",
    "wickets = pd.DataFrame(\n",
    "    np.arange(0,11,1)\n",
    ").rename(\n",
    "    columns={0:'innings_wickets'}\n",
    ")\n",
    "\n",
    "wickets['join'] = 0\n",
    "\n",
    "balls_remaining = pd.DataFrame(\n",
    "    np.arange(0,121,1)\n",
    ").rename(\n",
    "    columns={0:'innings_remaining_balls'}\n",
    ")\n",
    "\n",
    "balls_remaining['join'] = 0\n",
    "\n",
    "merged = wickets.merge(balls_remaining).drop(columns=['join'])"
   ]
  },
  {
   "cell_type": "code",
   "execution_count": 30,
   "id": "6c06fc6b",
   "metadata": {
    "ExecuteTime": {
     "end_time": "2022-08-11T09:30:40.541280Z",
     "start_time": "2022-08-11T09:30:40.535510Z"
    }
   },
   "outputs": [],
   "source": [
    "# Adding 1 to reverse the +1 adjustment earlier\n",
    "merged['pred'] = np.exp(wicket_model.predict(merged)) - 1\n",
    "\n",
    "# The value of a wicket is calculated as the difference between the predictions with n and n-1 wickets left\n",
    "merged['next_wicket'] = merged.groupby('innings_remaining_balls')['innings_wickets'].shift(-1)\n",
    "merged['wicket_pred'] = merged.groupby('innings_remaining_balls')['pred'].shift(-1)\n",
    "\n",
    "merged['value_of_wicket'] = merged['wicket_pred'] - merged['pred']\n",
    "\n",
    "# Taking the average of all wicket numbers. Otherwise opening batters are unfairly punished\n",
    "value_of_wicket = merged.groupby('innings_remaining_balls', as_index = False)[['value_of_wicket']].mean()"
   ]
  },
  {
   "cell_type": "markdown",
   "id": "9e3f8143",
   "metadata": {},
   "source": [
    "## Value of Survival"
   ]
  },
  {
   "cell_type": "markdown",
   "id": "8fc3cfd4",
   "metadata": {},
   "source": [
    "There is also value in wicket preservation, since it enables teammates to take more risks in the balls they face without increasing the risk of not batting out the overs. About 5% of balls in the dataset result in wickets, which means that before every ball, the probable cost to your team of getting out is 5% of the value of the wicket for that ball. If losing a wicket costs 10 runs then the probable cost would be 0.5 runs. By surviving that ball, you've enabled your team to avoid that probable cost of 0.5 runs, which is the value of suriving. "
   ]
  },
  {
   "cell_type": "code",
   "execution_count": 31,
   "id": "2796909f",
   "metadata": {
    "ExecuteTime": {
     "end_time": "2022-08-11T09:30:40.716206Z",
     "start_time": "2022-08-11T09:30:40.713588Z"
    }
   },
   "outputs": [],
   "source": [
    "# Calculate % of balls that are wickets\n",
    "wicket_perc = train_balls['wicket'].mean()"
   ]
  },
  {
   "cell_type": "code",
   "execution_count": 32,
   "id": "40dd5313",
   "metadata": {
    "ExecuteTime": {
     "end_time": "2022-08-11T09:30:40.893258Z",
     "start_time": "2022-08-11T09:30:40.891320Z"
    }
   },
   "outputs": [],
   "source": [
    "# Calculate value of survival for every ball\n",
    "value_of_wicket['value_of_survival'] = value_of_wicket['value_of_wicket'] * wicket_perc * -1"
   ]
  },
  {
   "cell_type": "markdown",
   "id": "329b376f",
   "metadata": {},
   "source": [
    "## Runs Gained Calculations"
   ]
  },
  {
   "cell_type": "code",
   "execution_count": 33,
   "id": "bdf101e1",
   "metadata": {
    "ExecuteTime": {
     "end_time": "2022-08-11T09:30:41.143970Z",
     "start_time": "2022-08-11T09:30:41.074632Z"
    }
   },
   "outputs": [
    {
     "name": "stderr",
     "output_type": "stream",
     "text": [
      "<ipython-input-33-4e682fa1706e>:5: SettingWithCopyWarning: \n",
      "A value is trying to be set on a copy of a slice from a DataFrame.\n",
      "Try using .loc[row_indexer,col_indexer] = value instead\n",
      "\n",
      "See the caveats in the documentation: https://pandas.pydata.org/pandas-docs/stable/user_guide/indexing.html#returning-a-view-versus-a-copy\n",
      "  Xtest1['pred'] = model1.predict(Xtest1)\n",
      "<ipython-input-33-4e682fa1706e>:6: SettingWithCopyWarning: \n",
      "A value is trying to be set on a copy of a slice from a DataFrame.\n",
      "Try using .loc[row_indexer,col_indexer] = value instead\n",
      "\n",
      "See the caveats in the documentation: https://pandas.pydata.org/pandas-docs/stable/user_guide/indexing.html#returning-a-view-versus-a-copy\n",
      "  Xtest1['actual'] = ytest1\n"
     ]
    }
   ],
   "source": [
    "# Predicting runs for 1st innings \n",
    "test1 = test_balls[test_balls['innings'] == 1]\n",
    "Xtest1 = test1[['innings_wickets', 'batter_balls_faced', 'powerplay', 'over_number']]\n",
    "ytest1 = test1['score_value']\n",
    "Xtest1['pred'] = model1.predict(Xtest1)\n",
    "Xtest1['actual'] = ytest1\n",
    "\n",
    "results1 = Xtest1.merge(\n",
    "    test1[['event_id','batsman_striker_name', 'bowler_name', 'innings', 'outcome',\n",
    "           'date', 'middle', 'death', 'wicket', 'innings_remaining_balls']],\n",
    "    left_index = True, right_index = True\n",
    ")"
   ]
  },
  {
   "cell_type": "code",
   "execution_count": 34,
   "id": "39af6dd3",
   "metadata": {
    "ExecuteTime": {
     "end_time": "2022-08-11T09:30:41.397886Z",
     "start_time": "2022-08-11T09:30:41.357041Z"
    }
   },
   "outputs": [
    {
     "name": "stderr",
     "output_type": "stream",
     "text": [
      "<ipython-input-34-f8c101a8feb5>:5: SettingWithCopyWarning: \n",
      "A value is trying to be set on a copy of a slice from a DataFrame.\n",
      "Try using .loc[row_indexer,col_indexer] = value instead\n",
      "\n",
      "See the caveats in the documentation: https://pandas.pydata.org/pandas-docs/stable/user_guide/indexing.html#returning-a-view-versus-a-copy\n",
      "  Xtest2['pred'] = model2.predict(Xtest2)\n",
      "<ipython-input-34-f8c101a8feb5>:6: SettingWithCopyWarning: \n",
      "A value is trying to be set on a copy of a slice from a DataFrame.\n",
      "Try using .loc[row_indexer,col_indexer] = value instead\n",
      "\n",
      "See the caveats in the documentation: https://pandas.pydata.org/pandas-docs/stable/user_guide/indexing.html#returning-a-view-versus-a-copy\n",
      "  Xtest2['actual'] = ytest2\n"
     ]
    }
   ],
   "source": [
    "# Predicting runs for 2nd innings \n",
    "test2 = test_balls[test_balls['innings'] == 2]\n",
    "Xtest2 = test2[['innings_wickets', 'batter_balls_faced','powerplay', 'over_number', 'run_rate_required']]\n",
    "ytest2 = test2['score_value']\n",
    "Xtest2['pred'] = model2.predict(Xtest2)\n",
    "Xtest2['actual'] = ytest2\n",
    "\n",
    "results2 = Xtest2.merge(\n",
    "    test2[['event_id', 'batsman_striker_name', 'bowler_name', 'innings', 'outcome',\n",
    "           'date', 'middle', 'death', 'wicket', 'innings_remaining_balls']],\n",
    "                        left_index = True, right_index = True)"
   ]
  },
  {
   "cell_type": "code",
   "execution_count": 35,
   "id": "bac78c07",
   "metadata": {
    "ExecuteTime": {
     "end_time": "2022-08-11T09:30:41.690334Z",
     "start_time": "2022-08-11T09:30:41.630611Z"
    }
   },
   "outputs": [],
   "source": [
    "results1['run_rate_required'] = None\n",
    "results = pd.concat([results1, results2])\n",
    "# Since a wide doesn't count as a ball, expected runs = 0. No ball counts because batter can still hit it\n",
    "results['wide_multiplier'] = results['outcome'].apply(lambda x: 0 if x == 'wide' else 1)\n",
    "results['pred'] = results['pred'] * results['wide_multiplier']"
   ]
  },
  {
   "cell_type": "code",
   "execution_count": 36,
   "id": "229f61c0",
   "metadata": {
    "ExecuteTime": {
     "end_time": "2022-08-11T09:30:41.963352Z",
     "start_time": "2022-08-11T09:30:41.925794Z"
    }
   },
   "outputs": [],
   "source": [
    "# Add value of wickets/survival\n",
    "results = results.merge(value_of_wicket)\n",
    "results['runs_gained_wicket'] = results['wicket'] * results['value_of_wicket']\n",
    "results['runs_gained_survival'] = (1 - results['wicket']) * results['value_of_survival']"
   ]
  },
  {
   "cell_type": "code",
   "execution_count": 37,
   "id": "34ac68c9",
   "metadata": {
    "ExecuteTime": {
     "end_time": "2022-08-11T09:30:42.198398Z",
     "start_time": "2022-08-11T09:30:42.195811Z"
    }
   },
   "outputs": [],
   "source": [
    "# Calculate runs gained value\n",
    "results['runs_gained'] = (results['actual'] - results['pred']) +\\\n",
    "                                results['runs_gained_wicket'] + results['runs_gained_survival']"
   ]
  },
  {
   "cell_type": "code",
   "execution_count": 38,
   "id": "d94dab38",
   "metadata": {
    "ExecuteTime": {
     "end_time": "2022-08-11T09:30:42.468608Z",
     "start_time": "2022-08-11T09:30:42.437452Z"
    }
   },
   "outputs": [],
   "source": [
    "# Calculate match runs gained for batters\n",
    "bat_performance = results.groupby(\n",
    "    ['event_id', 'date', 'batsman_striker_name'], as_index=False\n",
    ").agg(\n",
    "    {'batter_balls_faced':'count', 'runs_gained':'sum'}\n",
    ")"
   ]
  },
  {
   "cell_type": "code",
   "execution_count": 39,
   "id": "24df4176",
   "metadata": {
    "ExecuteTime": {
     "end_time": "2022-08-11T09:30:42.734490Z",
     "start_time": "2022-08-11T09:30:42.706068Z"
    }
   },
   "outputs": [],
   "source": [
    "# Calculate match runs gained for bowlers\n",
    "bowl_performance = results.groupby(\n",
    "    ['event_id', 'date', 'bowler_name'], as_index=False\n",
    ").agg(\n",
    "    {'batter_balls_faced':'count', 'runs_gained':'sum'}\n",
    ")\n",
    "\n",
    "# Changing this to positive since fewer runs is better for bowlers\n",
    "bowl_performance['runs_gained'] = bowl_performance['runs_gained'] * -1"
   ]
  },
  {
   "cell_type": "markdown",
   "id": "53f0786d",
   "metadata": {},
   "source": [
    "## Span Testing"
   ]
  },
  {
   "cell_type": "code",
   "execution_count": 40,
   "id": "32c12edc",
   "metadata": {
    "ExecuteTime": {
     "end_time": "2022-08-11T09:30:42.987958Z",
     "start_time": "2022-08-11T09:30:42.978708Z"
    }
   },
   "outputs": [],
   "source": [
    "# Excluding batters/bowlers with fewer than 20 innings\n",
    "bat_innings = bat_performance.groupby('batsman_striker_name', as_index=False)[['runs_gained']].count()\n",
    "included_batters = list(bat_innings[bat_innings['runs_gained'] >= 20]['batsman_striker_name'])\n",
    "\n",
    "bowl_innings = bowl_performance.groupby('bowler_name', as_index=False)[['runs_gained']].count()\n",
    "included_bowlers = list(bowl_innings[bowl_innings['runs_gained'] >= 20]['bowler_name'])"
   ]
  },
  {
   "cell_type": "code",
   "execution_count": 41,
   "id": "6a175e6c",
   "metadata": {
    "ExecuteTime": {
     "end_time": "2022-08-11T09:30:43.254858Z",
     "start_time": "2022-08-11T09:30:43.248879Z"
    }
   },
   "outputs": [],
   "source": [
    "# Excluding batters/bowlers with fewer than 20 innings\n",
    "bat_test = bat_performance[\n",
    "    bat_performance['batsman_striker_name'].isin(included_batters)\n",
    "].sort_values(\n",
    "    'date'\n",
    ").set_index(\n",
    "    'date'\n",
    ")\n",
    "\n",
    "bowl_test = bowl_performance[\n",
    "    bowl_performance['bowler_name'].isin(included_bowlers)\n",
    "].sort_values(\n",
    "    'date'\n",
    ").set_index(\n",
    "    'date'\n",
    ")"
   ]
  },
  {
   "cell_type": "code",
   "execution_count": 42,
   "id": "ba67f3c9",
   "metadata": {
    "ExecuteTime": {
     "end_time": "2022-08-11T09:30:43.522017Z",
     "start_time": "2022-08-11T09:30:43.517973Z"
    },
    "code_folding": [
     0
    ]
   },
   "outputs": [],
   "source": [
    "def test_span(span, bat=True):\n",
    "\n",
    "    if bat:\n",
    "        bat_rating = bat_test.groupby(\n",
    "            'batsman_striker_name'\n",
    "        )[['runs_gained']].ewm(\n",
    "            span=span\n",
    "        ).mean().rename(\n",
    "            columns={'runs_gained':'rating'}\n",
    "        ).reset_index()\n",
    "\n",
    "        bat_rating_added = bat_test.reset_index().merge(bat_rating)\n",
    "\n",
    "        bat_rating_added['rating_before'] = bat_rating_added.groupby('batsman_striker_name')['rating'].shift(1)\n",
    "\n",
    "        bat_rating_added['abs_error'] = abs(bat_rating_added['runs_gained'] - bat_rating_added['rating_before'])\n",
    "\n",
    "        return bat_rating_added['abs_error'].mean()\n",
    "    \n",
    "    else:\n",
    "        \n",
    "        bowl_rating = bowl_test.groupby(\n",
    "            'bowler_name'\n",
    "        )[['runs_gained']].ewm(\n",
    "            span=span\n",
    "        ).mean().rename(\n",
    "            columns={'runs_gained':'rating'}\n",
    "        ).reset_index()\n",
    "\n",
    "        bowl_rating_added = bowl_test.reset_index().merge(bowl_rating)\n",
    "\n",
    "        bowl_rating_added['rating_before'] = bowl_rating_added.groupby('bowler_name')['rating'].shift(1)\n",
    "\n",
    "        bowl_rating_added['abs_error'] = abs(bowl_rating_added['runs_gained'] - bowl_rating_added['rating_before'])\n",
    "\n",
    "        return bowl_rating_added['abs_error'].mean()   "
   ]
  },
  {
   "cell_type": "code",
   "execution_count": 43,
   "id": "51314939",
   "metadata": {
    "ExecuteTime": {
     "end_time": "2022-08-11T09:30:44.294686Z",
     "start_time": "2022-08-11T09:30:43.792682Z"
    }
   },
   "outputs": [],
   "source": [
    "# Testing different span values to find the most predictive smoothing\n",
    "span_values = [5,10,15,20,25,30,35,40,45,50]\n",
    "bat_span_results = {}\n",
    "bowl_span_results = {}\n",
    "\n",
    "for span in span_values:\n",
    "    bat_mae = test_span(span, bat=True)\n",
    "    bat_span_results[span] = bat_mae\n",
    "    \n",
    "    bowl_mae = test_span(span, bat=False)\n",
    "    bowl_span_results[span] = bowl_mae"
   ]
  },
  {
   "cell_type": "code",
   "execution_count": 44,
   "id": "3c154c72",
   "metadata": {
    "ExecuteTime": {
     "end_time": "2022-08-11T09:30:44.529442Z",
     "start_time": "2022-08-11T09:30:44.527914Z"
    }
   },
   "outputs": [],
   "source": [
    "bat_span = min(bat_span_results, key=bat_span_results.get)\n",
    "bowl_span = min(bowl_span_results, key=bowl_span_results.get)"
   ]
  },
  {
   "cell_type": "code",
   "execution_count": 45,
   "id": "46c8eabf",
   "metadata": {
    "ExecuteTime": {
     "end_time": "2022-08-11T09:30:44.769742Z",
     "start_time": "2022-08-11T09:30:44.766509Z"
    },
    "code_folding": [
     0
    ]
   },
   "outputs": [],
   "source": [
    "def plot_smooth_ratings(name, bat=True):\n",
    "    \n",
    "    fig = plt.figure(figsize=(16,9))\n",
    "    \n",
    "    if bat:\n",
    "        df = bat_performance[bat_performance['batsman_striker_name'] == name].sort_values('date')\n",
    "        df.set_index('date', inplace=True)\n",
    "        ax = df['runs_gained'].plot(style = 'r--', label = name)\n",
    "        ax = df['runs_gained'].ewm(span = bat_span).mean().plot(style = 'b', label = ' Exponential moving average')\n",
    "        ax.set_title(f\"{name}: Batting\", size=20)\n",
    "    else:\n",
    "        df = bowl_performance[bowl_performance['bowler_name'] == name].sort_values('date')\n",
    "        df.set_index('date', inplace=True)\n",
    "        ax = df['runs_gained'].plot(style = 'r--', label = name)\n",
    "        ax = df['runs_gained'].ewm(span = bowl_span).mean().plot(style = 'b', label = ' Exponential moving average')\n",
    "        ax.set_title(f\"{name}: Bowling\", size=20)\n",
    "        \n",
    "    ax.set_xlabel(\"Date\", size=15)\n",
    "    ax.set_ylabel(\"Runs Gained\", size=15)\n",
    "    ax.tick_params(axis='both', which='major', labelsize=15)\n",
    "    ax.spines['top'].set_visible(False)\n",
    "    ax.spines['right'].set_visible(False);"
   ]
  },
  {
   "cell_type": "code",
   "execution_count": 46,
   "id": "0a68a596",
   "metadata": {
    "ExecuteTime": {
     "end_time": "2022-08-11T09:30:45.122175Z",
     "start_time": "2022-08-11T09:30:45.005032Z"
    }
   },
   "outputs": [
    {
     "data": {
      "image/png": "[encoded data removed]",
      "text/plain": [
       "<Figure size 1152x648 with 1 Axes>"
      ]
     },
     "metadata": {
      "needs_background": "light"
     },
     "output_type": "display_data"
    }
   ],
   "source": [
    "plot_smooth_ratings('Liam Livingstone', bat=True)"
   ]
  },
  {
   "cell_type": "code",
   "execution_count": 47,
   "id": "772e836f",
   "metadata": {
    "ExecuteTime": {
     "end_time": "2022-08-11T09:30:45.388356Z",
     "start_time": "2022-08-11T09:30:45.356620Z"
    }
   },
   "outputs": [
    {
     "data": {
      "text/html": [
       "<div>\n",
       "<style scoped>\n",
       "    .dataframe tbody tr th:only-of-type {\n",
       "        vertical-align: middle;\n",
       "    }\n",
       "\n",
       "    .dataframe tbody tr th {\n",
       "        vertical-align: top;\n",
       "    }\n",
       "\n",
       "    .dataframe thead th {\n",
       "        text-align: right;\n",
       "    }\n",
       "</style>\n",
       "<table border=\"1\" class=\"dataframe\">\n",
       "  <thead>\n",
       "    <tr style=\"text-align: right;\">\n",
       "      <th></th>\n",
       "      <th></th>\n",
       "      <th>player_rating</th>\n",
       "    </tr>\n",
       "    <tr>\n",
       "      <th>batsman_striker_name</th>\n",
       "      <th>date</th>\n",
       "      <th></th>\n",
       "    </tr>\n",
       "  </thead>\n",
       "  <tbody>\n",
       "    <tr>\n",
       "      <th>Joe Clarke</th>\n",
       "      <th>2021-08-25 19:00:00+00:00</th>\n",
       "      <td>12.860134</td>\n",
       "    </tr>\n",
       "    <tr>\n",
       "      <th>Josh Inglis</th>\n",
       "      <th>2021-07-18 18:30:00+00:00</th>\n",
       "      <td>12.077551</td>\n",
       "    </tr>\n",
       "    <tr>\n",
       "      <th>Mohammad Rizwan</th>\n",
       "      <th>2021-12-17 18:00:00+00:00</th>\n",
       "      <td>11.801734</td>\n",
       "    </tr>\n",
       "    <tr>\n",
       "      <th>Daniel Bell-Drummond</th>\n",
       "      <th>2021-09-18 18:45:00+00:00</th>\n",
       "      <td>10.175033</td>\n",
       "    </tr>\n",
       "    <tr>\n",
       "      <th>Will Jacks</th>\n",
       "      <th>2021-07-16 14:30:00+00:00</th>\n",
       "      <td>9.772050</td>\n",
       "    </tr>\n",
       "    <tr>\n",
       "      <th>Ruturaj Gaikwad</th>\n",
       "      <th>2021-11-09 13:00:00+00:00</th>\n",
       "      <td>9.479490</td>\n",
       "    </tr>\n",
       "    <tr>\n",
       "      <th>Mayank Agarwal</th>\n",
       "      <th>2021-10-08 14:00:00+00:00</th>\n",
       "      <td>9.310949</td>\n",
       "    </tr>\n",
       "    <tr>\n",
       "      <th>Jos Buttler</th>\n",
       "      <th>2021-11-11 18:00:00+00:00</th>\n",
       "      <td>9.104109</td>\n",
       "    </tr>\n",
       "    <tr>\n",
       "      <th>KL Rahul</th>\n",
       "      <th>2021-11-20 19:00:00+00:00</th>\n",
       "      <td>8.553045</td>\n",
       "    </tr>\n",
       "    <tr>\n",
       "      <th>Zak Crawley</th>\n",
       "      <th>2021-09-18 18:45:00+00:00</th>\n",
       "      <td>8.487248</td>\n",
       "    </tr>\n",
       "  </tbody>\n",
       "</table>\n",
       "</div>"
      ],
      "text/plain": [
       "                                                player_rating\n",
       "batsman_striker_name date                                    \n",
       "Joe Clarke           2021-08-25 19:00:00+00:00      12.860134\n",
       "Josh Inglis          2021-07-18 18:30:00+00:00      12.077551\n",
       "Mohammad Rizwan      2021-12-17 18:00:00+00:00      11.801734\n",
       "Daniel Bell-Drummond 2021-09-18 18:45:00+00:00      10.175033\n",
       "Will Jacks           2021-07-16 14:30:00+00:00       9.772050\n",
       "Ruturaj Gaikwad      2021-11-09 13:00:00+00:00       9.479490\n",
       "Mayank Agarwal       2021-10-08 14:00:00+00:00       9.310949\n",
       "Jos Buttler          2021-11-11 18:00:00+00:00       9.104109\n",
       "KL Rahul             2021-11-20 19:00:00+00:00       8.553045\n",
       "Zak Crawley          2021-09-18 18:45:00+00:00       8.487248"
      ]
     },
     "execution_count": 47,
     "metadata": {},
     "output_type": "execute_result"
    }
   ],
   "source": [
    "# Finding top 10 batters\n",
    "batting_ratings = bat_performance[\n",
    "    bat_performance['batsman_striker_name'].isin(included_batters)\n",
    "].sort_values(\n",
    "    'date'\n",
    ").set_index(\n",
    "    'date'\n",
    ").groupby(\n",
    "    'batsman_striker_name'\n",
    ")[['runs_gained']].ewm(\n",
    "    span=bat_span\n",
    ").mean().groupby(\n",
    "    'batsman_striker_name'\n",
    ").tail(1).sort_values(\n",
    "    'runs_gained', ascending=False\n",
    ").rename(\n",
    "    columns={'runs_gained':'player_rating'}\n",
    ")\n",
    "\n",
    "batting_ratings.head(10)"
   ]
  },
  {
   "cell_type": "code",
   "execution_count": 48,
   "id": "f03c50bb",
   "metadata": {
    "ExecuteTime": {
     "end_time": "2022-08-11T09:30:45.655454Z",
     "start_time": "2022-08-11T09:30:45.629657Z"
    }
   },
   "outputs": [
    {
     "data": {
      "text/html": [
       "<div>\n",
       "<style scoped>\n",
       "    .dataframe tbody tr th:only-of-type {\n",
       "        vertical-align: middle;\n",
       "    }\n",
       "\n",
       "    .dataframe tbody tr th {\n",
       "        vertical-align: top;\n",
       "    }\n",
       "\n",
       "    .dataframe thead th {\n",
       "        text-align: right;\n",
       "    }\n",
       "</style>\n",
       "<table border=\"1\" class=\"dataframe\">\n",
       "  <thead>\n",
       "    <tr style=\"text-align: right;\">\n",
       "      <th></th>\n",
       "      <th></th>\n",
       "      <th>player_rating</th>\n",
       "    </tr>\n",
       "    <tr>\n",
       "      <th>bowler_name</th>\n",
       "      <th>date</th>\n",
       "      <th></th>\n",
       "    </tr>\n",
       "  </thead>\n",
       "  <tbody>\n",
       "    <tr>\n",
       "      <th>Wanindu Hasaranga de Silva</th>\n",
       "      <th>2021-11-05 18:00:00+00:00</th>\n",
       "      <td>9.999881</td>\n",
       "    </tr>\n",
       "    <tr>\n",
       "      <th>Dinesh Nakrani</th>\n",
       "      <th>2021-11-20 09:15:00+00:00</th>\n",
       "      <td>9.924715</td>\n",
       "    </tr>\n",
       "    <tr>\n",
       "      <th>Ravisrinivasan Sai Kishore</th>\n",
       "      <th>2021-11-22 12:00:00+00:00</th>\n",
       "      <td>7.714359</td>\n",
       "    </tr>\n",
       "    <tr>\n",
       "      <th>Mujeeb Ur Rahman</th>\n",
       "      <th>2021-11-08 14:00:00+00:00</th>\n",
       "      <td>6.762122</td>\n",
       "    </tr>\n",
       "    <tr>\n",
       "      <th>Jasprit Bumrah</th>\n",
       "      <th>2021-11-09 18:00:00+00:00</th>\n",
       "      <td>6.158964</td>\n",
       "    </tr>\n",
       "    <tr>\n",
       "      <th>Nasum Ahmed</th>\n",
       "      <th>2021-11-23 14:00:00+00:00</th>\n",
       "      <td>4.778513</td>\n",
       "    </tr>\n",
       "    <tr>\n",
       "      <th>Avesh Khan</th>\n",
       "      <th>2021-10-14 18:00:00+00:00</th>\n",
       "      <td>4.679448</td>\n",
       "    </tr>\n",
       "    <tr>\n",
       "      <th>Anrich Nortje</th>\n",
       "      <th>2021-11-07 18:00:00+00:00</th>\n",
       "      <td>4.529335</td>\n",
       "    </tr>\n",
       "    <tr>\n",
       "      <th>Rashid Khan</th>\n",
       "      <th>2021-11-08 14:00:00+00:00</th>\n",
       "      <td>4.487015</td>\n",
       "    </tr>\n",
       "    <tr>\n",
       "      <th>Tabraiz Shamsi</th>\n",
       "      <th>2021-11-07 18:00:00+00:00</th>\n",
       "      <td>3.988077</td>\n",
       "    </tr>\n",
       "  </tbody>\n",
       "</table>\n",
       "</div>"
      ],
      "text/plain": [
       "                                                      player_rating\n",
       "bowler_name                date                                    \n",
       "Wanindu Hasaranga de Silva 2021-11-05 18:00:00+00:00       9.999881\n",
       "Dinesh Nakrani             2021-11-20 09:15:00+00:00       9.924715\n",
       "Ravisrinivasan Sai Kishore 2021-11-22 12:00:00+00:00       7.714359\n",
       "Mujeeb Ur Rahman           2021-11-08 14:00:00+00:00       6.762122\n",
       "Jasprit Bumrah             2021-11-09 18:00:00+00:00       6.158964\n",
       "Nasum Ahmed                2021-11-23 14:00:00+00:00       4.778513\n",
       "Avesh Khan                 2021-10-14 18:00:00+00:00       4.679448\n",
       "Anrich Nortje              2021-11-07 18:00:00+00:00       4.529335\n",
       "Rashid Khan                2021-11-08 14:00:00+00:00       4.487015\n",
       "Tabraiz Shamsi             2021-11-07 18:00:00+00:00       3.988077"
      ]
     },
     "execution_count": 48,
     "metadata": {},
     "output_type": "execute_result"
    }
   ],
   "source": [
    "# Finding top 10 bowlers\n",
    "bowling_ratings = bowl_performance[\n",
    "    bowl_performance['bowler_name'].isin(included_bowlers)\n",
    "].sort_values(\n",
    "    'date'\n",
    ").set_index(\n",
    "    'date'\n",
    ").groupby(\n",
    "    'bowler_name'\n",
    ")[['runs_gained']].ewm(\n",
    "    span=bowl_span\n",
    ").mean().groupby(\n",
    "    'bowler_name'\n",
    ").tail(1).sort_values(\n",
    "    'runs_gained', ascending=False\n",
    ").rename(\n",
    "    columns={'runs_gained':'player_rating'}\n",
    ")\n",
    "\n",
    "bowling_ratings.head(10)"
   ]
  },
  {
   "cell_type": "markdown",
   "id": "18aff231",
   "metadata": {},
   "source": [
    "# Analysis"
   ]
  },
  {
   "cell_type": "markdown",
   "id": "49063b4f",
   "metadata": {},
   "source": [
    "## Phase Performance"
   ]
  },
  {
   "cell_type": "markdown",
   "id": "c972fa27",
   "metadata": {},
   "source": [
    "This Runs Gained model can be used to assess players' (and teams') performance in different phases of an innings. Building a squad that can perform in all phases is clearly important, but so is deploying your players in the phases of the game that suit them the best.\n",
    "\n",
    "Looking at the batting table below, we can see that AB de Villiers has scored at an average rate in the Powerplay and just below average in the Middle, but has been one of the very best at the Death. This would suggest that he's best held back until later on in the innings, as RCB started to do at the end of his career. \n",
    "\n",
    "For the bowlers, you can see that Jofra Archer has been below average at the Death, but well above average in the Powerplay and particularly in the Middle. Teams should maximise his abilities before the end of the innings, and find other bowlers who can bowl at the Death. Jasprit Bumrah is a rare example of a player whose performance remains fairly constant in all 3 phases. This makes him incredibly versatile, so he can be used flexibly throughout an innings depending on what other bowlers a team has and to target certain batters."
   ]
  },
  {
   "cell_type": "code",
   "execution_count": 49,
   "id": "d8b8dbd7",
   "metadata": {
    "ExecuteTime": {
     "end_time": "2022-08-11T09:30:45.952283Z",
     "start_time": "2022-08-11T09:30:45.894771Z"
    },
    "code_folding": [
     0
    ],
    "scrolled": false
   },
   "outputs": [
    {
     "data": {
      "text/html": [
       "<div>\n",
       "<style scoped>\n",
       "    .dataframe tbody tr th:only-of-type {\n",
       "        vertical-align: middle;\n",
       "    }\n",
       "\n",
       "    .dataframe tbody tr th {\n",
       "        vertical-align: top;\n",
       "    }\n",
       "\n",
       "    .dataframe thead th {\n",
       "        text-align: right;\n",
       "    }\n",
       "</style>\n",
       "<table border=\"1\" class=\"dataframe\">\n",
       "  <thead>\n",
       "    <tr style=\"text-align: right;\">\n",
       "      <th></th>\n",
       "      <th>batsman_striker_name</th>\n",
       "      <th>pp_balls</th>\n",
       "      <th>pp_runs_gained</th>\n",
       "      <th>mid_balls</th>\n",
       "      <th>mid_runs_gained</th>\n",
       "      <th>death_balls</th>\n",
       "      <th>death_runs_gained</th>\n",
       "    </tr>\n",
       "  </thead>\n",
       "  <tbody>\n",
       "    <tr>\n",
       "      <th>566</th>\n",
       "      <td>Kieron Pollard</td>\n",
       "      <td>10.0</td>\n",
       "      <td>3.090349</td>\n",
       "      <td>316.0</td>\n",
       "      <td>0.218451</td>\n",
       "      <td>509.0</td>\n",
       "      <td>0.581009</td>\n",
       "    </tr>\n",
       "    <tr>\n",
       "      <th>967</th>\n",
       "      <td>Shahrukh Khan</td>\n",
       "      <td>5.0</td>\n",
       "      <td>-0.653463</td>\n",
       "      <td>113.0</td>\n",
       "      <td>0.296853</td>\n",
       "      <td>225.0</td>\n",
       "      <td>0.560587</td>\n",
       "    </tr>\n",
       "    <tr>\n",
       "      <th>1</th>\n",
       "      <td>AB de Villiers</td>\n",
       "      <td>66.0</td>\n",
       "      <td>0.005049</td>\n",
       "      <td>259.0</td>\n",
       "      <td>-0.135382</td>\n",
       "      <td>285.0</td>\n",
       "      <td>0.557029</td>\n",
       "    </tr>\n",
       "    <tr>\n",
       "      <th>86</th>\n",
       "      <td>Andre Russell</td>\n",
       "      <td>9.0</td>\n",
       "      <td>-0.179441</td>\n",
       "      <td>226.0</td>\n",
       "      <td>0.072582</td>\n",
       "      <td>438.0</td>\n",
       "      <td>0.533072</td>\n",
       "    </tr>\n",
       "    <tr>\n",
       "      <th>851</th>\n",
       "      <td>Ravindra Jadeja</td>\n",
       "      <td>6.0</td>\n",
       "      <td>-0.882663</td>\n",
       "      <td>87.0</td>\n",
       "      <td>0.161026</td>\n",
       "      <td>278.0</td>\n",
       "      <td>0.484342</td>\n",
       "    </tr>\n",
       "    <tr>\n",
       "      <th>203</th>\n",
       "      <td>Cam Fletcher</td>\n",
       "      <td>11.0</td>\n",
       "      <td>-0.593686</td>\n",
       "      <td>128.0</td>\n",
       "      <td>0.336705</td>\n",
       "      <td>170.0</td>\n",
       "      <td>0.462403</td>\n",
       "    </tr>\n",
       "    <tr>\n",
       "      <th>1409</th>\n",
       "      <td>Josh Clarkson</td>\n",
       "      <td>NaN</td>\n",
       "      <td>NaN</td>\n",
       "      <td>133.0</td>\n",
       "      <td>0.375410</td>\n",
       "      <td>156.0</td>\n",
       "      <td>0.432146</td>\n",
       "    </tr>\n",
       "    <tr>\n",
       "      <th>986</th>\n",
       "      <td>Shimron Hetmyer</td>\n",
       "      <td>171.0</td>\n",
       "      <td>-0.347248</td>\n",
       "      <td>442.0</td>\n",
       "      <td>0.124110</td>\n",
       "      <td>310.0</td>\n",
       "      <td>0.420851</td>\n",
       "    </tr>\n",
       "    <tr>\n",
       "      <th>364</th>\n",
       "      <td>Glenn Phillips</td>\n",
       "      <td>281.0</td>\n",
       "      <td>-0.148825</td>\n",
       "      <td>616.0</td>\n",
       "      <td>0.359363</td>\n",
       "      <td>257.0</td>\n",
       "      <td>0.382038</td>\n",
       "    </tr>\n",
       "    <tr>\n",
       "      <th>398</th>\n",
       "      <td>Harry Brook</td>\n",
       "      <td>45.0</td>\n",
       "      <td>-0.449666</td>\n",
       "      <td>227.0</td>\n",
       "      <td>0.355258</td>\n",
       "      <td>200.0</td>\n",
       "      <td>0.372888</td>\n",
       "    </tr>\n",
       "    <tr>\n",
       "      <th>197</th>\n",
       "      <td>Brydon Carse</td>\n",
       "      <td>3.0</td>\n",
       "      <td>-0.363779</td>\n",
       "      <td>44.0</td>\n",
       "      <td>0.063683</td>\n",
       "      <td>170.0</td>\n",
       "      <td>0.372458</td>\n",
       "    </tr>\n",
       "    <tr>\n",
       "      <th>459</th>\n",
       "      <td>Jack Leaning</td>\n",
       "      <td>16.0</td>\n",
       "      <td>-0.007309</td>\n",
       "      <td>205.0</td>\n",
       "      <td>0.108623</td>\n",
       "      <td>169.0</td>\n",
       "      <td>0.356741</td>\n",
       "    </tr>\n",
       "    <tr>\n",
       "      <th>1404</th>\n",
       "      <td>Jordan Cox</td>\n",
       "      <td>NaN</td>\n",
       "      <td>NaN</td>\n",
       "      <td>128.0</td>\n",
       "      <td>0.211869</td>\n",
       "      <td>166.0</td>\n",
       "      <td>0.255383</td>\n",
       "    </tr>\n",
       "    <tr>\n",
       "      <th>273</th>\n",
       "      <td>David Miller</td>\n",
       "      <td>33.0</td>\n",
       "      <td>-1.009316</td>\n",
       "      <td>287.0</td>\n",
       "      <td>0.120086</td>\n",
       "      <td>234.0</td>\n",
       "      <td>0.245417</td>\n",
       "    </tr>\n",
       "    <tr>\n",
       "      <th>843</th>\n",
       "      <td>Rassie van der Dussen</td>\n",
       "      <td>99.0</td>\n",
       "      <td>0.143602</td>\n",
       "      <td>262.0</td>\n",
       "      <td>0.121885</td>\n",
       "      <td>170.0</td>\n",
       "      <td>0.241925</td>\n",
       "    </tr>\n",
       "    <tr>\n",
       "      <th>639</th>\n",
       "      <td>Marcus Stoinis</td>\n",
       "      <td>245.0</td>\n",
       "      <td>0.244441</td>\n",
       "      <td>362.0</td>\n",
       "      <td>0.098817</td>\n",
       "      <td>302.0</td>\n",
       "      <td>0.235589</td>\n",
       "    </tr>\n",
       "    <tr>\n",
       "      <th>392</th>\n",
       "      <td>Hardik Pandya</td>\n",
       "      <td>3.0</td>\n",
       "      <td>-0.481080</td>\n",
       "      <td>105.0</td>\n",
       "      <td>-0.103786</td>\n",
       "      <td>340.0</td>\n",
       "      <td>0.233038</td>\n",
       "    </tr>\n",
       "    <tr>\n",
       "      <th>830</th>\n",
       "      <td>Rahul Tewatia</td>\n",
       "      <td>4.0</td>\n",
       "      <td>-0.165041</td>\n",
       "      <td>158.0</td>\n",
       "      <td>0.074871</td>\n",
       "      <td>234.0</td>\n",
       "      <td>0.221881</td>\n",
       "    </tr>\n",
       "    <tr>\n",
       "      <th>318</th>\n",
       "      <td>Eoin Morgan</td>\n",
       "      <td>107.0</td>\n",
       "      <td>0.064537</td>\n",
       "      <td>442.0</td>\n",
       "      <td>0.174558</td>\n",
       "      <td>327.0</td>\n",
       "      <td>0.221177</td>\n",
       "    </tr>\n",
       "    <tr>\n",
       "      <th>323</th>\n",
       "      <td>Faf du Plessis</td>\n",
       "      <td>492.0</td>\n",
       "      <td>0.328025</td>\n",
       "      <td>419.0</td>\n",
       "      <td>-0.013144</td>\n",
       "      <td>165.0</td>\n",
       "      <td>0.214614</td>\n",
       "    </tr>\n",
       "  </tbody>\n",
       "</table>\n",
       "</div>"
      ],
      "text/plain": [
       "       batsman_striker_name  pp_balls  pp_runs_gained  mid_balls  \\\n",
       "566          Kieron Pollard      10.0        3.090349      316.0   \n",
       "967           Shahrukh Khan       5.0       -0.653463      113.0   \n",
       "1            AB de Villiers      66.0        0.005049      259.0   \n",
       "86            Andre Russell       9.0       -0.179441      226.0   \n",
       "851         Ravindra Jadeja       6.0       -0.882663       87.0   \n",
       "203            Cam Fletcher      11.0       -0.593686      128.0   \n",
       "1409          Josh Clarkson       NaN             NaN      133.0   \n",
       "986         Shimron Hetmyer     171.0       -0.347248      442.0   \n",
       "364          Glenn Phillips     281.0       -0.148825      616.0   \n",
       "398             Harry Brook      45.0       -0.449666      227.0   \n",
       "197            Brydon Carse       3.0       -0.363779       44.0   \n",
       "459            Jack Leaning      16.0       -0.007309      205.0   \n",
       "1404             Jordan Cox       NaN             NaN      128.0   \n",
       "273            David Miller      33.0       -1.009316      287.0   \n",
       "843   Rassie van der Dussen      99.0        0.143602      262.0   \n",
       "639          Marcus Stoinis     245.0        0.244441      362.0   \n",
       "392           Hardik Pandya       3.0       -0.481080      105.0   \n",
       "830           Rahul Tewatia       4.0       -0.165041      158.0   \n",
       "318             Eoin Morgan     107.0        0.064537      442.0   \n",
       "323          Faf du Plessis     492.0        0.328025      419.0   \n",
       "\n",
       "      mid_runs_gained  death_balls  death_runs_gained  \n",
       "566          0.218451        509.0           0.581009  \n",
       "967          0.296853        225.0           0.560587  \n",
       "1           -0.135382        285.0           0.557029  \n",
       "86           0.072582        438.0           0.533072  \n",
       "851          0.161026        278.0           0.484342  \n",
       "203          0.336705        170.0           0.462403  \n",
       "1409         0.375410        156.0           0.432146  \n",
       "986          0.124110        310.0           0.420851  \n",
       "364          0.359363        257.0           0.382038  \n",
       "398          0.355258        200.0           0.372888  \n",
       "197          0.063683        170.0           0.372458  \n",
       "459          0.108623        169.0           0.356741  \n",
       "1404         0.211869        166.0           0.255383  \n",
       "273          0.120086        234.0           0.245417  \n",
       "843          0.121885        170.0           0.241925  \n",
       "639          0.098817        302.0           0.235589  \n",
       "392         -0.103786        340.0           0.233038  \n",
       "830          0.074871        234.0           0.221881  \n",
       "318          0.174558        327.0           0.221177  \n",
       "323         -0.013144        165.0           0.214614  "
      ]
     },
     "execution_count": 49,
     "metadata": {},
     "output_type": "execute_result"
    }
   ],
   "source": [
    "# Batting Phases \n",
    "pp_bat = results[results['powerplay'] == 1].groupby(\n",
    "    'batsman_striker_name', as_index = False\n",
    ").agg(\n",
    "    {'batter_balls_faced':'count', 'runs_gained':'mean'}\n",
    ").rename(\n",
    "    columns={'batter_balls_faced':'pp_balls', 'runs_gained':'pp_runs_gained'}\n",
    ")\n",
    "\n",
    "mid_bat = results[results['middle'] == 1].groupby(\n",
    "    'batsman_striker_name', as_index = False\n",
    ").agg(\n",
    "    {'batter_balls_faced':'count', 'runs_gained':'mean'}\n",
    ").rename(\n",
    "    columns={'batter_balls_faced':'mid_balls', 'runs_gained':'mid_runs_gained'}\n",
    ")\n",
    "\n",
    "\n",
    "death_bat = results[results['death'] == 1].groupby(\n",
    "    'batsman_striker_name', as_index = False\n",
    ").agg(\n",
    "    {'batter_balls_faced':'count', 'runs_gained':'mean'}\n",
    ").rename(\n",
    "    columns={'batter_balls_faced':'death_balls', 'runs_gained':'death_runs_gained'}\n",
    ")\n",
    "\n",
    "phase_bat_performance = pp_bat.merge(mid_bat, how='outer').merge(death_bat, how='outer')\n",
    "\n",
    "phase_bat_performance[\n",
    "    phase_bat_performance['death_balls'] >= 150\n",
    "].sort_values(\n",
    "    'death_runs_gained', ascending=False\n",
    ").head(20)"
   ]
  },
  {
   "cell_type": "code",
   "execution_count": 50,
   "id": "883683fc",
   "metadata": {
    "ExecuteTime": {
     "end_time": "2022-08-11T09:30:46.264164Z",
     "start_time": "2022-08-11T09:30:46.207386Z"
    },
    "code_folding": [
     0
    ],
    "scrolled": false
   },
   "outputs": [
    {
     "data": {
      "text/html": [
       "<div>\n",
       "<style scoped>\n",
       "    .dataframe tbody tr th:only-of-type {\n",
       "        vertical-align: middle;\n",
       "    }\n",
       "\n",
       "    .dataframe tbody tr th {\n",
       "        vertical-align: top;\n",
       "    }\n",
       "\n",
       "    .dataframe thead th {\n",
       "        text-align: right;\n",
       "    }\n",
       "</style>\n",
       "<table border=\"1\" class=\"dataframe\">\n",
       "  <thead>\n",
       "    <tr style=\"text-align: right;\">\n",
       "      <th></th>\n",
       "      <th>bowler_name</th>\n",
       "      <th>pp_balls</th>\n",
       "      <th>pp_runs_gained</th>\n",
       "      <th>mid_balls</th>\n",
       "      <th>mid_runs_gained</th>\n",
       "      <th>death_balls</th>\n",
       "      <th>death_runs_gained</th>\n",
       "    </tr>\n",
       "  </thead>\n",
       "  <tbody>\n",
       "    <tr>\n",
       "      <th>41</th>\n",
       "      <td>Akeal Hosein</td>\n",
       "      <td>290.0</td>\n",
       "      <td>0.267327</td>\n",
       "      <td>283.0</td>\n",
       "      <td>0.053209</td>\n",
       "      <td>68.0</td>\n",
       "      <td>0.414504</td>\n",
       "    </tr>\n",
       "    <tr>\n",
       "      <th>623</th>\n",
       "      <td>Mahedi Hasan</td>\n",
       "      <td>255.0</td>\n",
       "      <td>0.258879</td>\n",
       "      <td>317.0</td>\n",
       "      <td>0.036219</td>\n",
       "      <td>52.0</td>\n",
       "      <td>-0.016304</td>\n",
       "    </tr>\n",
       "    <tr>\n",
       "      <th>472</th>\n",
       "      <td>Jasprit Bumrah</td>\n",
       "      <td>352.0</td>\n",
       "      <td>0.228257</td>\n",
       "      <td>199.0</td>\n",
       "      <td>0.327314</td>\n",
       "      <td>444.0</td>\n",
       "      <td>0.228592</td>\n",
       "    </tr>\n",
       "    <tr>\n",
       "      <th>721</th>\n",
       "      <td>Mujeeb Ur Rahman</td>\n",
       "      <td>447.0</td>\n",
       "      <td>0.224691</td>\n",
       "      <td>237.0</td>\n",
       "      <td>0.045190</td>\n",
       "      <td>157.0</td>\n",
       "      <td>0.541265</td>\n",
       "    </tr>\n",
       "    <tr>\n",
       "      <th>488</th>\n",
       "      <td>Jofra Archer</td>\n",
       "      <td>307.0</td>\n",
       "      <td>0.182531</td>\n",
       "      <td>69.0</td>\n",
       "      <td>0.563528</td>\n",
       "      <td>256.0</td>\n",
       "      <td>-0.006137</td>\n",
       "    </tr>\n",
       "    <tr>\n",
       "      <th>693</th>\n",
       "      <td>Mohammad Nabi</td>\n",
       "      <td>328.0</td>\n",
       "      <td>0.099086</td>\n",
       "      <td>344.0</td>\n",
       "      <td>-0.019577</td>\n",
       "      <td>149.0</td>\n",
       "      <td>0.112383</td>\n",
       "    </tr>\n",
       "    <tr>\n",
       "      <th>501</th>\n",
       "      <td>Josh Hazlewood</td>\n",
       "      <td>427.0</td>\n",
       "      <td>0.065836</td>\n",
       "      <td>135.0</td>\n",
       "      <td>0.325673</td>\n",
       "      <td>167.0</td>\n",
       "      <td>-0.013498</td>\n",
       "    </tr>\n",
       "    <tr>\n",
       "      <th>1074</th>\n",
       "      <td>Trent Boult</td>\n",
       "      <td>619.0</td>\n",
       "      <td>0.037069</td>\n",
       "      <td>98.0</td>\n",
       "      <td>0.281910</td>\n",
       "      <td>384.0</td>\n",
       "      <td>0.028829</td>\n",
       "    </tr>\n",
       "    <tr>\n",
       "      <th>663</th>\n",
       "      <td>Matty Potts</td>\n",
       "      <td>254.0</td>\n",
       "      <td>0.029005</td>\n",
       "      <td>25.0</td>\n",
       "      <td>-0.413043</td>\n",
       "      <td>195.0</td>\n",
       "      <td>0.033223</td>\n",
       "    </tr>\n",
       "    <tr>\n",
       "      <th>733</th>\n",
       "      <td>Mustafizur Rahman</td>\n",
       "      <td>370.0</td>\n",
       "      <td>0.007710</td>\n",
       "      <td>167.0</td>\n",
       "      <td>-0.056612</td>\n",
       "      <td>446.0</td>\n",
       "      <td>0.073330</td>\n",
       "    </tr>\n",
       "    <tr>\n",
       "      <th>179</th>\n",
       "      <td>Bhuvneshwar Kumar</td>\n",
       "      <td>339.0</td>\n",
       "      <td>-0.010393</td>\n",
       "      <td>25.0</td>\n",
       "      <td>0.901811</td>\n",
       "      <td>240.0</td>\n",
       "      <td>-0.158846</td>\n",
       "    </tr>\n",
       "    <tr>\n",
       "      <th>86</th>\n",
       "      <td>Anrich Nortje</td>\n",
       "      <td>398.0</td>\n",
       "      <td>-0.011342</td>\n",
       "      <td>116.0</td>\n",
       "      <td>0.423088</td>\n",
       "      <td>360.0</td>\n",
       "      <td>0.139768</td>\n",
       "    </tr>\n",
       "    <tr>\n",
       "      <th>104</th>\n",
       "      <td>Arshdeep Singh</td>\n",
       "      <td>270.0</td>\n",
       "      <td>-0.023570</td>\n",
       "      <td>74.0</td>\n",
       "      <td>-0.347727</td>\n",
       "      <td>207.0</td>\n",
       "      <td>0.097076</td>\n",
       "    </tr>\n",
       "    <tr>\n",
       "      <th>349</th>\n",
       "      <td>George Garton</td>\n",
       "      <td>269.0</td>\n",
       "      <td>-0.033699</td>\n",
       "      <td>52.0</td>\n",
       "      <td>-0.250709</td>\n",
       "      <td>136.0</td>\n",
       "      <td>0.084585</td>\n",
       "    </tr>\n",
       "    <tr>\n",
       "      <th>701</th>\n",
       "      <td>Mohammed Siraj</td>\n",
       "      <td>286.0</td>\n",
       "      <td>-0.087247</td>\n",
       "      <td>54.0</td>\n",
       "      <td>-0.209040</td>\n",
       "      <td>176.0</td>\n",
       "      <td>0.033994</td>\n",
       "    </tr>\n",
       "    <tr>\n",
       "      <th>470</th>\n",
       "      <td>Jason Holder</td>\n",
       "      <td>488.0</td>\n",
       "      <td>-0.093517</td>\n",
       "      <td>211.0</td>\n",
       "      <td>0.033111</td>\n",
       "      <td>280.0</td>\n",
       "      <td>-0.008150</td>\n",
       "    </tr>\n",
       "    <tr>\n",
       "      <th>759</th>\n",
       "      <td>Naveen-ul-Haq</td>\n",
       "      <td>371.0</td>\n",
       "      <td>-0.103018</td>\n",
       "      <td>129.0</td>\n",
       "      <td>-0.036720</td>\n",
       "      <td>333.0</td>\n",
       "      <td>0.070566</td>\n",
       "    </tr>\n",
       "    <tr>\n",
       "      <th>952</th>\n",
       "      <td>Scott Kuggeleijn</td>\n",
       "      <td>309.0</td>\n",
       "      <td>-0.105512</td>\n",
       "      <td>131.0</td>\n",
       "      <td>-0.084917</td>\n",
       "      <td>174.0</td>\n",
       "      <td>-0.051333</td>\n",
       "    </tr>\n",
       "    <tr>\n",
       "      <th>800</th>\n",
       "      <td>Pat Cummins</td>\n",
       "      <td>383.0</td>\n",
       "      <td>-0.114670</td>\n",
       "      <td>138.0</td>\n",
       "      <td>-0.089052</td>\n",
       "      <td>187.0</td>\n",
       "      <td>-0.059509</td>\n",
       "    </tr>\n",
       "    <tr>\n",
       "      <th>338</th>\n",
       "      <td>Fred Klaassen</td>\n",
       "      <td>299.0</td>\n",
       "      <td>-0.119393</td>\n",
       "      <td>33.0</td>\n",
       "      <td>-0.630643</td>\n",
       "      <td>241.0</td>\n",
       "      <td>0.054079</td>\n",
       "    </tr>\n",
       "  </tbody>\n",
       "</table>\n",
       "</div>"
      ],
      "text/plain": [
       "            bowler_name  pp_balls  pp_runs_gained  mid_balls  mid_runs_gained  \\\n",
       "41         Akeal Hosein     290.0        0.267327      283.0         0.053209   \n",
       "623        Mahedi Hasan     255.0        0.258879      317.0         0.036219   \n",
       "472      Jasprit Bumrah     352.0        0.228257      199.0         0.327314   \n",
       "721    Mujeeb Ur Rahman     447.0        0.224691      237.0         0.045190   \n",
       "488        Jofra Archer     307.0        0.182531       69.0         0.563528   \n",
       "693       Mohammad Nabi     328.0        0.099086      344.0        -0.019577   \n",
       "501      Josh Hazlewood     427.0        0.065836      135.0         0.325673   \n",
       "1074        Trent Boult     619.0        0.037069       98.0         0.281910   \n",
       "663         Matty Potts     254.0        0.029005       25.0        -0.413043   \n",
       "733   Mustafizur Rahman     370.0        0.007710      167.0        -0.056612   \n",
       "179   Bhuvneshwar Kumar     339.0       -0.010393       25.0         0.901811   \n",
       "86        Anrich Nortje     398.0       -0.011342      116.0         0.423088   \n",
       "104      Arshdeep Singh     270.0       -0.023570       74.0        -0.347727   \n",
       "349       George Garton     269.0       -0.033699       52.0        -0.250709   \n",
       "701      Mohammed Siraj     286.0       -0.087247       54.0        -0.209040   \n",
       "470        Jason Holder     488.0       -0.093517      211.0         0.033111   \n",
       "759       Naveen-ul-Haq     371.0       -0.103018      129.0        -0.036720   \n",
       "952    Scott Kuggeleijn     309.0       -0.105512      131.0        -0.084917   \n",
       "800         Pat Cummins     383.0       -0.114670      138.0        -0.089052   \n",
       "338       Fred Klaassen     299.0       -0.119393       33.0        -0.630643   \n",
       "\n",
       "      death_balls  death_runs_gained  \n",
       "41           68.0           0.414504  \n",
       "623          52.0          -0.016304  \n",
       "472         444.0           0.228592  \n",
       "721         157.0           0.541265  \n",
       "488         256.0          -0.006137  \n",
       "693         149.0           0.112383  \n",
       "501         167.0          -0.013498  \n",
       "1074        384.0           0.028829  \n",
       "663         195.0           0.033223  \n",
       "733         446.0           0.073330  \n",
       "179         240.0          -0.158846  \n",
       "86          360.0           0.139768  \n",
       "104         207.0           0.097076  \n",
       "349         136.0           0.084585  \n",
       "701         176.0           0.033994  \n",
       "470         280.0          -0.008150  \n",
       "759         333.0           0.070566  \n",
       "952         174.0          -0.051333  \n",
       "800         187.0          -0.059509  \n",
       "338         241.0           0.054079  "
      ]
     },
     "execution_count": 50,
     "metadata": {},
     "output_type": "execute_result"
    }
   ],
   "source": [
    "# Bowling Phases \n",
    "results['bowl_runs_gained'] = results['runs_gained'] * -1\n",
    "\n",
    "pp_bowl = results[results['powerplay'] == 1].groupby(\n",
    "    'bowler_name', as_index = False\n",
    ").agg(\n",
    "    {'batter_balls_faced':'count', 'bowl_runs_gained':'mean'}\n",
    ").rename(\n",
    "    columns={'batter_balls_faced':'pp_balls', 'bowl_runs_gained':'pp_runs_gained'}\n",
    ")\n",
    "\n",
    "mid_bowl = results[results['middle'] == 1].groupby(\n",
    "    'bowler_name', as_index = False\n",
    ").agg(\n",
    "    {'batter_balls_faced':'count', 'bowl_runs_gained':'mean'}\n",
    ").rename(\n",
    "    columns={'batter_balls_faced':'mid_balls', 'bowl_runs_gained':'mid_runs_gained'}\n",
    ")\n",
    "\n",
    "\n",
    "death_bowl = results[results['death'] == 1].groupby(\n",
    "    'bowler_name', as_index = False\n",
    ").agg(\n",
    "    {'batter_balls_faced':'count', 'bowl_runs_gained':'mean'}\n",
    ").rename(\n",
    "    columns={'batter_balls_faced':'death_balls', 'bowl_runs_gained':'death_runs_gained'}\n",
    ")\n",
    "\n",
    "phase_bowl_performance = pp_bowl.merge(mid_bowl, how='outer').merge(death_bowl, how='outer')\n",
    "\n",
    "phase_bowl_performance[\n",
    "    phase_bowl_performance['pp_balls'] >= 250\n",
    "].sort_values(\n",
    "    'pp_runs_gained', ascending=False\n",
    ").head(20)"
   ]
  },
  {
   "cell_type": "markdown",
   "id": "fb81dd9c",
   "metadata": {},
   "source": [
    "## Variability v Consistency"
   ]
  },
  {
   "cell_type": "markdown",
   "id": "6c254681",
   "metadata": {},
   "source": [
    "Understanding the variability of players' performance is another important consideration in squad building. While Player Ratings would be a key metric in ranking players' performance, and variability seems to be correlated with these ratings, a balance between more variable and more consistent players should also be a consideration. Take KL Rahul and Aiden Markram for example - their ratings are similar, but Rahul's variability is much higher. This means that he is probably more capable of playing a 70(30), but Markram can probably more reliably deliver you a 40(26)."
   ]
  },
  {
   "cell_type": "code",
   "execution_count": 51,
   "id": "4fe0672b",
   "metadata": {
    "ExecuteTime": {
     "end_time": "2022-08-11T09:30:46.521372Z",
     "start_time": "2022-08-11T09:30:46.515146Z"
    },
    "scrolled": false
   },
   "outputs": [],
   "source": [
    "# Calculate standard deviation of runs gained\n",
    "bat_std = bat_test.groupby(\n",
    "    'batsman_striker_name', as_index=False\n",
    ")[['runs_gained']].std().sort_values(\n",
    "    'runs_gained', ascending=False\n",
    ").rename(\n",
    "    columns={'runs_gained':'std_dev'}\n",
    ").merge(\n",
    "    batting_ratings.reset_index()[['batsman_striker_name', 'player_rating']]\n",
    ")"
   ]
  },
  {
   "cell_type": "code",
   "execution_count": 52,
   "id": "af9337c8",
   "metadata": {
    "ExecuteTime": {
     "end_time": "2022-08-11T09:30:46.892505Z",
     "start_time": "2022-08-11T09:30:46.778032Z"
    },
    "code_folding": [
     0
    ],
    "scrolled": false
   },
   "outputs": [
    {
     "data": {
      "image/png": "[encoded data removed]",
      "text/plain": [
       "<Figure size 1152x648 with 1 Axes>"
      ]
     },
     "metadata": {
      "needs_background": "light"
     },
     "output_type": "display_data"
    }
   ],
   "source": [
    "# Consistency Plot \n",
    "fig = plt.figure(figsize=(16,9))\n",
    "\n",
    "ax = sns.scatterplot(data=bat_std, x=\"player_rating\", y=\"std_dev\")\n",
    "\n",
    "names_to_plot = ['Joe Clarke', 'Kieron Pollard', 'Finn Allen', 'Josh Inglis', 'KL Rahul',\n",
    "                'Ishan Kishan', 'Alex Hales', 'Aiden Markram', 'Hamish Rutherford',\n",
    "                'Adam Lyth', 'Shakib Al Hasan', 'Ross Whiteley', 'Abdul Samad',\n",
    "                'Mohammad Naim', 'Joe Denly', 'Virat Kohli', 'Moises Henriques', 'Alex Carey', 'Will Jacks',\n",
    "                'Mohammad Rizwan', 'Ravindra Jadeja', 'Shahrukh Khan', 'Harry Brook', 'Tom Banton',\n",
    "                'Soumya Sarkar', 'MS Dhoni']\n",
    "\n",
    "for i in range(len(bat_std)):\n",
    "    if bat_std['batsman_striker_name'][i] in names_to_plot:\n",
    "        ax.text(bat_std['player_rating'][i] + 0.1,\n",
    "                y=bat_std['std_dev'][i] + 0.1,\n",
    "                s=bat_std['batsman_striker_name'][i],\n",
    "                alpha=1,\n",
    "                fontsize = 12)\n",
    "\n",
    "ax.axhline(y=bat_std['std_dev'].mean(), color='k', linestyle='--', linewidth=1)           \n",
    "ax.axvline(x=bat_std['player_rating'].mean(), color='k',linestyle='--', linewidth=1) \n",
    "\n",
    "ax.text(x=8.5, y=22.5, s=\"Quicker Scoring, Less Consistent\",fontsize=14, color='green')\n",
    "ax.text(x=8.5, y=4.1, s=\"Quicker Scoring, More Consistent\",fontsize=14, color='green')\n",
    "ax.text(x=-4.7, y=4.1, s=\"Slower Scoring, More Consistent\", fontsize=14, color='red')\n",
    "ax.text(x=-4.7, y=22.5, s=\"Slower Scoring, Less Consistent\", fontsize=14, color='red')   \n",
    "\n",
    "ax.set_title(\"Batting Consistency\", size=20)\n",
    "ax.set_xlabel(\"Player Rating\", size=15)\n",
    "ax.set_ylabel(\"Standard Deviation of Runs Gained\", size=15)\n",
    "\n",
    "ax.tick_params(axis='both', which='major', labelsize=15)\n",
    "ax.spines['top'].set_visible(False)\n",
    "ax.spines['right'].set_visible(False);"
   ]
  },
  {
   "cell_type": "markdown",
   "id": "b2e8554e",
   "metadata": {},
   "source": [
    "## Match-Ups"
   ]
  },
  {
   "cell_type": "markdown",
   "id": "87262439",
   "metadata": {},
   "source": [
    "Match-ups are obviously a very common talking point in T20 cricket now, and we can use runs gained to see which match-ups have been particularly successful or unsuccessful in the past. In the list below, the standout one to me is Buttler v Bhuvi - in this test set, it's rare that a bowler dominant match-up would have 40 balls, since a key reason that the bowler would be dominant is because they've dismissed the batter, and therefore no more balls are bowled for that match-up. In the recent T20I series in England this continued, where Bhuvi got Buttler out 2/3 times. These historical match-up ratings could be used to feed into predicted match-ups to inform strategy before a match."
   ]
  },
  {
   "cell_type": "code",
   "execution_count": 53,
   "id": "e5ab0c5d",
   "metadata": {
    "ExecuteTime": {
     "end_time": "2022-08-11T09:30:47.193483Z",
     "start_time": "2022-08-11T09:30:47.155765Z"
    }
   },
   "outputs": [],
   "source": [
    "# Calculating match ups\n",
    "matchups = results.groupby(\n",
    "    ['batsman_striker_name', 'bowler_name'], as_index = False\n",
    ").agg(\n",
    "    {'batter_balls_faced':'count', 'runs_gained':'mean'}\n",
    ")"
   ]
  },
  {
   "cell_type": "code",
   "execution_count": 54,
   "id": "4b97a07f",
   "metadata": {
    "ExecuteTime": {
     "end_time": "2022-08-11T09:30:47.464891Z",
     "start_time": "2022-08-11T09:30:47.458792Z"
    },
    "scrolled": false
   },
   "outputs": [
    {
     "data": {
      "text/html": [
       "<div>\n",
       "<style scoped>\n",
       "    .dataframe tbody tr th:only-of-type {\n",
       "        vertical-align: middle;\n",
       "    }\n",
       "\n",
       "    .dataframe tbody tr th {\n",
       "        vertical-align: top;\n",
       "    }\n",
       "\n",
       "    .dataframe thead th {\n",
       "        text-align: right;\n",
       "    }\n",
       "</style>\n",
       "<table border=\"1\" class=\"dataframe\">\n",
       "  <thead>\n",
       "    <tr style=\"text-align: right;\">\n",
       "      <th></th>\n",
       "      <th>batsman_striker_name</th>\n",
       "      <th>bowler_name</th>\n",
       "      <th>batter_balls_faced</th>\n",
       "      <th>runs_gained</th>\n",
       "    </tr>\n",
       "  </thead>\n",
       "  <tbody>\n",
       "    <tr>\n",
       "      <th>16497</th>\n",
       "      <td>Jos Buttler</td>\n",
       "      <td>Bhuvneshwar Kumar</td>\n",
       "      <td>40</td>\n",
       "      <td>-0.605465</td>\n",
       "    </tr>\n",
       "    <tr>\n",
       "      <th>10549</th>\n",
       "      <td>Faf du Plessis</td>\n",
       "      <td>Sunil Narine</td>\n",
       "      <td>40</td>\n",
       "      <td>-0.328352</td>\n",
       "    </tr>\n",
       "    <tr>\n",
       "      <th>17185</th>\n",
       "      <td>KL Rahul</td>\n",
       "      <td>Ish Sodhi</td>\n",
       "      <td>46</td>\n",
       "      <td>-0.167408</td>\n",
       "    </tr>\n",
       "    <tr>\n",
       "      <th>3464</th>\n",
       "      <td>Ashmit Shreshta</td>\n",
       "      <td>Solomon Williams</td>\n",
       "      <td>43</td>\n",
       "      <td>-0.092890</td>\n",
       "    </tr>\n",
       "    <tr>\n",
       "      <th>17386</th>\n",
       "      <td>Kane Williamson</td>\n",
       "      <td>Axar Patel</td>\n",
       "      <td>40</td>\n",
       "      <td>-0.053160</td>\n",
       "    </tr>\n",
       "    <tr>\n",
       "      <th>22286</th>\n",
       "      <td>Mitchell Marsh</td>\n",
       "      <td>Shakib Al Hasan</td>\n",
       "      <td>40</td>\n",
       "      <td>-0.002973</td>\n",
       "    </tr>\n",
       "    <tr>\n",
       "      <th>17379</th>\n",
       "      <td>Kane Williamson</td>\n",
       "      <td>Adam Zampa</td>\n",
       "      <td>42</td>\n",
       "      <td>0.044987</td>\n",
       "    </tr>\n",
       "    <tr>\n",
       "      <th>28491</th>\n",
       "      <td>Rohit Sharma</td>\n",
       "      <td>Mitchell Santner</td>\n",
       "      <td>58</td>\n",
       "      <td>0.206026</td>\n",
       "    </tr>\n",
       "    <tr>\n",
       "      <th>9329</th>\n",
       "      <td>Devon Conway</td>\n",
       "      <td>Cole McConchie</td>\n",
       "      <td>42</td>\n",
       "      <td>0.221480</td>\n",
       "    </tr>\n",
       "    <tr>\n",
       "      <th>2162</th>\n",
       "      <td>Amoluk Singh</td>\n",
       "      <td>Zappy Bimenyimana</td>\n",
       "      <td>49</td>\n",
       "      <td>0.222677</td>\n",
       "    </tr>\n",
       "    <tr>\n",
       "      <th>27091</th>\n",
       "      <td>Rassie van der Dussen</td>\n",
       "      <td>Adil Rashid</td>\n",
       "      <td>43</td>\n",
       "      <td>0.224582</td>\n",
       "    </tr>\n",
       "    <tr>\n",
       "      <th>8595</th>\n",
       "      <td>David Warner</td>\n",
       "      <td>Anrich Nortje</td>\n",
       "      <td>46</td>\n",
       "      <td>0.228089</td>\n",
       "    </tr>\n",
       "    <tr>\n",
       "      <th>35765</th>\n",
       "      <td>Virat Kohli</td>\n",
       "      <td>Jofra Archer</td>\n",
       "      <td>47</td>\n",
       "      <td>0.243735</td>\n",
       "    </tr>\n",
       "    <tr>\n",
       "      <th>8629</th>\n",
       "      <td>David Warner</td>\n",
       "      <td>Kagiso Rabada</td>\n",
       "      <td>43</td>\n",
       "      <td>0.269809</td>\n",
       "    </tr>\n",
       "    <tr>\n",
       "      <th>17216</th>\n",
       "      <td>KL Rahul</td>\n",
       "      <td>Mitchell Santner</td>\n",
       "      <td>45</td>\n",
       "      <td>0.325193</td>\n",
       "    </tr>\n",
       "    <tr>\n",
       "      <th>57</th>\n",
       "      <td>AB de Villiers</td>\n",
       "      <td>Rashid Khan</td>\n",
       "      <td>46</td>\n",
       "      <td>0.334430</td>\n",
       "    </tr>\n",
       "    <tr>\n",
       "      <th>27097</th>\n",
       "      <td>Rassie van der Dussen</td>\n",
       "      <td>Chris Jordan</td>\n",
       "      <td>58</td>\n",
       "      <td>0.340511</td>\n",
       "    </tr>\n",
       "    <tr>\n",
       "      <th>17462</th>\n",
       "      <td>Kane Williamson</td>\n",
       "      <td>Yuzvendra Chahal</td>\n",
       "      <td>43</td>\n",
       "      <td>0.340694</td>\n",
       "    </tr>\n",
       "    <tr>\n",
       "      <th>105</th>\n",
       "      <td>Aaron Finch</td>\n",
       "      <td>Adil Rashid</td>\n",
       "      <td>40</td>\n",
       "      <td>0.346906</td>\n",
       "    </tr>\n",
       "    <tr>\n",
       "      <th>35744</th>\n",
       "      <td>Virat Kohli</td>\n",
       "      <td>Chris Jordan</td>\n",
       "      <td>40</td>\n",
       "      <td>0.347075</td>\n",
       "    </tr>\n",
       "    <tr>\n",
       "      <th>26275</th>\n",
       "      <td>Quinton de Kock</td>\n",
       "      <td>Deepak Chahar</td>\n",
       "      <td>41</td>\n",
       "      <td>0.381851</td>\n",
       "    </tr>\n",
       "    <tr>\n",
       "      <th>10490</th>\n",
       "      <td>Faf du Plessis</td>\n",
       "      <td>Chris Jordan</td>\n",
       "      <td>47</td>\n",
       "      <td>0.405455</td>\n",
       "    </tr>\n",
       "    <tr>\n",
       "      <th>16578</th>\n",
       "      <td>Jos Buttler</td>\n",
       "      <td>Shardul Thakur</td>\n",
       "      <td>40</td>\n",
       "      <td>0.553892</td>\n",
       "    </tr>\n",
       "    <tr>\n",
       "      <th>17251</th>\n",
       "      <td>KL Rahul</td>\n",
       "      <td>Tim Southee</td>\n",
       "      <td>68</td>\n",
       "      <td>0.657230</td>\n",
       "    </tr>\n",
       "    <tr>\n",
       "      <th>15209</th>\n",
       "      <td>Janneman Malan</td>\n",
       "      <td>Shaheen Shah Afridi</td>\n",
       "      <td>53</td>\n",
       "      <td>0.724705</td>\n",
       "    </tr>\n",
       "    <tr>\n",
       "      <th>8844</th>\n",
       "      <td>Dawid Malan</td>\n",
       "      <td>Hardik Pandya</td>\n",
       "      <td>42</td>\n",
       "      <td>0.739665</td>\n",
       "    </tr>\n",
       "    <tr>\n",
       "      <th>9342</th>\n",
       "      <td>Devon Conway</td>\n",
       "      <td>Ed Nuttall</td>\n",
       "      <td>40</td>\n",
       "      <td>0.819620</td>\n",
       "    </tr>\n",
       "    <tr>\n",
       "      <th>26253</th>\n",
       "      <td>Quinton de Kock</td>\n",
       "      <td>Andre Russell</td>\n",
       "      <td>48</td>\n",
       "      <td>0.839041</td>\n",
       "    </tr>\n",
       "    <tr>\n",
       "      <th>17253</th>\n",
       "      <td>KL Rahul</td>\n",
       "      <td>Trent Boult</td>\n",
       "      <td>52</td>\n",
       "      <td>1.019126</td>\n",
       "    </tr>\n",
       "  </tbody>\n",
       "</table>\n",
       "</div>"
      ],
      "text/plain": [
       "        batsman_striker_name          bowler_name  batter_balls_faced  \\\n",
       "16497            Jos Buttler    Bhuvneshwar Kumar                  40   \n",
       "10549         Faf du Plessis         Sunil Narine                  40   \n",
       "17185               KL Rahul            Ish Sodhi                  46   \n",
       "3464         Ashmit Shreshta     Solomon Williams                  43   \n",
       "17386        Kane Williamson           Axar Patel                  40   \n",
       "22286         Mitchell Marsh      Shakib Al Hasan                  40   \n",
       "17379        Kane Williamson           Adam Zampa                  42   \n",
       "28491           Rohit Sharma     Mitchell Santner                  58   \n",
       "9329            Devon Conway       Cole McConchie                  42   \n",
       "2162            Amoluk Singh    Zappy Bimenyimana                  49   \n",
       "27091  Rassie van der Dussen          Adil Rashid                  43   \n",
       "8595            David Warner        Anrich Nortje                  46   \n",
       "35765            Virat Kohli         Jofra Archer                  47   \n",
       "8629            David Warner        Kagiso Rabada                  43   \n",
       "17216               KL Rahul     Mitchell Santner                  45   \n",
       "57            AB de Villiers          Rashid Khan                  46   \n",
       "27097  Rassie van der Dussen         Chris Jordan                  58   \n",
       "17462        Kane Williamson     Yuzvendra Chahal                  43   \n",
       "105              Aaron Finch          Adil Rashid                  40   \n",
       "35744            Virat Kohli         Chris Jordan                  40   \n",
       "26275        Quinton de Kock        Deepak Chahar                  41   \n",
       "10490         Faf du Plessis         Chris Jordan                  47   \n",
       "16578            Jos Buttler       Shardul Thakur                  40   \n",
       "17251               KL Rahul          Tim Southee                  68   \n",
       "15209         Janneman Malan  Shaheen Shah Afridi                  53   \n",
       "8844             Dawid Malan        Hardik Pandya                  42   \n",
       "9342            Devon Conway           Ed Nuttall                  40   \n",
       "26253        Quinton de Kock        Andre Russell                  48   \n",
       "17253               KL Rahul          Trent Boult                  52   \n",
       "\n",
       "       runs_gained  \n",
       "16497    -0.605465  \n",
       "10549    -0.328352  \n",
       "17185    -0.167408  \n",
       "3464     -0.092890  \n",
       "17386    -0.053160  \n",
       "22286    -0.002973  \n",
       "17379     0.044987  \n",
       "28491     0.206026  \n",
       "9329      0.221480  \n",
       "2162      0.222677  \n",
       "27091     0.224582  \n",
       "8595      0.228089  \n",
       "35765     0.243735  \n",
       "8629      0.269809  \n",
       "17216     0.325193  \n",
       "57        0.334430  \n",
       "27097     0.340511  \n",
       "17462     0.340694  \n",
       "105       0.346906  \n",
       "35744     0.347075  \n",
       "26275     0.381851  \n",
       "10490     0.405455  \n",
       "16578     0.553892  \n",
       "17251     0.657230  \n",
       "15209     0.724705  \n",
       "8844      0.739665  \n",
       "9342      0.819620  \n",
       "26253     0.839041  \n",
       "17253     1.019126  "
      ]
     },
     "execution_count": 54,
     "metadata": {},
     "output_type": "execute_result"
    }
   ],
   "source": [
    "matchups[matchups['batter_balls_faced'] >= 40].sort_values('runs_gained')"
   ]
  },
  {
   "cell_type": "markdown",
   "id": "1b1bd6b5",
   "metadata": {},
   "source": [
    "# Developments"
   ]
  },
  {
   "cell_type": "markdown",
   "id": "df97d938",
   "metadata": {},
   "source": [
    "## Add Batter/Bowler Adjustment"
   ]
  },
  {
   "cell_type": "markdown",
   "id": "d32ab49e",
   "metadata": {},
   "source": [
    "Currently, this rating system model doesn't account for the quality of the batter or bowler. Obviously this would be an important consideration in assessing players since it is clearly more impressive for batters to score quickly against the best bowlers, and equally it is more impressive to conceded fewer runs against the best batters. \n",
    "\n",
    "To do this would involve separate models - for the batting model, I would include a variable like *Bowler's Career Economy*, which would give an indication of how the average batter would fare against that bowler in that game scenario, and then the actual batter would be assessed against that average batter. And the same the other way round for the bowling model. They would have to be separate because if you included for example a *Bowler's Career Economy* variable, then the model would be biased against the better bowlers, since the expected runs baseline would be lower for them than other bowlers. \n",
    "\n",
    "While this would make the player ratings more accurate, it would mean that the model is no longer zero-sum (where the batter's runs gained is equal to the bowler's runs lost). A zero-sum model can be useful for certain reasons, such as the match-up analysis above. "
   ]
  },
  {
   "cell_type": "markdown",
   "id": "c1a15774",
   "metadata": {},
   "source": [
    "## Add Venues"
   ]
  },
  {
   "cell_type": "markdown",
   "id": "e31a164c",
   "metadata": {},
   "source": [
    "Similarly, the model doesn't currently account for venue dynamics. This has a big impact on how many runs we would expect from a given ball, so would be a valuable addition to the model. Some venues are just higher scoring than others, so an innings of 30(25) might be a good innings at one ground but a bad innings at another. \n",
    "\n",
    "But it can also be more granular than that - for example, there are venues which favour spin bowling, whether for the surface (e.g. Chennai) or the ground dimensions (e.g. Old Trafford), so scoring runs against spinners at those venues would be more impressive than scoring runs against seamers. Another example could be venues (e.g. subcontinental grounds generally) where dew plays an important factor, so run scoring is generally easier in the 2nd innings. Again, incorporating this into the model should make the player ratings more accurate."
   ]
  },
  {
   "cell_type": "markdown",
   "id": "fff83a5f",
   "metadata": {},
   "source": [
    "## Add Competitions"
   ]
  },
  {
   "cell_type": "markdown",
   "id": "bf984ef4",
   "metadata": {},
   "source": [
    "Another key consideration is the relative strength of different competitions. Without this, the ratings can be misleading. In the top 10 batters, we have 4 players who play predominantly in the T20 Blast in England (Clarke, Bell-Drummond, Jacks and Crawley). The standard of bowling in particular is weaker in the Blast than in competitions such as the IPL, PSL etc., so it is easier for those players to gain runs than players who have played predominantly in the IPL or PSL. \n",
    "\n",
    "While this would to some extent be mitigated by adding the batter/bowler adjustment mentioned above, whatever indicator of opponent quality you used (e.g. career economy/strike rate), this too would be biased by whatever the strength of competitions that the opponent played in. \n",
    "\n",
    "To factor this in, I would see how players' performance translates across different competitions. For example, if Will Jacks gained on average 8 runs in the Blast, 4 runs in the BPL and -2 runs in the PSL, we could infer that the bowling strength in the BPL is stronger than the Blast, and stronger in the PSL than the BPL. Doing this over all the players who've played in the different competitions would give us a conversion rate between them all. This would mean we can more accurately compare players across the world."
   ]
  }
 ],
 "metadata": {
  "kernelspec": {
   "display_name": "Python 3",
   "language": "python",
   "name": "python3"
  },
  "language_info": {
   "codemirror_mode": {
    "name": "ipython",
    "version": 3
   },
   "file_extension": ".py",
   "mimetype": "text/x-python",
   "name": "python",
   "nbconvert_exporter": "python",
   "pygments_lexer": "ipython3",
   "version": "3.9.5"
  },
  "toc": {
   "base_numbering": 1,
   "nav_menu": {},
   "number_sections": true,
   "sideBar": true,
   "skip_h1_title": false,
   "title_cell": "Table of Contents",
   "title_sidebar": "Contents",
   "toc_cell": false,
   "toc_position": {
    "height": "calc(100% - 180px)",
    "left": "10px",
    "top": "150px",
    "width": "271.25px"
   },
   "toc_section_display": true,
   "toc_window_display": true
  },
  "varInspector": {
   "cols": {
    "lenName": 16,
    "lenType": 16,
    "lenVar": 40
   },
   "kernels_config": {
    "python": {
     "delete_cmd_postfix": "",
     "delete_cmd_prefix": "del ",
     "library": "var_list.py",
     "varRefreshCmd": "print(var_dic_list())"
    },
    "r": {
     "delete_cmd_postfix": ") ",
     "delete_cmd_prefix": "rm(",
     "library": "var_list.r",
     "varRefreshCmd": "cat(var_dic_list()) "
    }
   },
   "position": {
    "height": "658.848px",
    "left": "1470px",
    "right": "20px",
    "top": "120px",
    "width": "310px"
   },
   "types_to_exclude": [
    "module",
    "function",
    "builtin_function_or_method",
    "instance",
    "_Feature"
   ],
   "window_display": false
  }
 },
 "nbformat": 4,
 "nbformat_minor": 5
}
